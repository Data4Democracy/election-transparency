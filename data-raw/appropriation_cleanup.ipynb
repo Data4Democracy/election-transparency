{
 "cells": [
  {
   "cell_type": "code",
   "execution_count": 1,
   "metadata": {
    "collapsed": false
   },
   "outputs": [
    {
     "data": {
      "text/plain": [
       "'3.5.2 |Anaconda 4.1.1 (x86_64)| (default, Jul  2 2016, 17:52:12) \\n[GCC 4.2.1 Compatible Apple LLVM 4.2 (clang-425.0.28)]'"
      ]
     },
     "execution_count": 1,
     "metadata": {},
     "output_type": "execute_result"
    }
   ],
   "source": [
    "import numpy as np\n",
    "import pandas as pd\n",
    "import sys\n",
    "sys.version"
   ]
  },
  {
   "cell_type": "code",
   "execution_count": 3,
   "metadata": {
    "collapsed": false
   },
   "outputs": [
    {
     "name": "stdout",
     "output_type": "stream",
     "text": [
      "0 ﻿Table A. Apportionment and Apportionment Population Based on the 1990 Census,,,,,,\n",
      "\n",
      "1     ,,,,,,\n",
      "\n",
      "2 States   ,Size of State,Apportionment,,United States,,\n",
      "\n",
      "3 ,delegation,population,Resident population,population abroad,,\n",
      "\n",
      "4 ,,,,,,\n",
      "\n",
      "5      United States         ,435,\"1 249,022,783\",\"248,709,873\",\"922,819\",,\n",
      "\n",
      "6 ,,,,,,\n",
      "\n",
      "7 Alabama……………………………………..,7,\"4,062,608\",\"4,040,587\",\"22,021\",,\n",
      "\n",
      "8 Alaska……………………………………..,1,\"551,947\",\"550,043\",\"1,904\",,\n",
      "\n",
      "9 Arizona……………………………………..,6,\"3,677,985\",\"3,665,228\",\"12,757\",,\n",
      "\n",
      "10 Arkansas……………………………………..,4,\"2,362,239\",\"2,350,725\",\"11,514\",,\n",
      "\n",
      "11 California……………………………………..,52,\"29,839,250\",\"29,760,021\",\"79,229\",,\n",
      "\n",
      "12 Colorado……………………………………..,6,\"3,307,912\",\"3,294,394\",\"13,518\",,\n",
      "\n",
      "13 Connecticut……………………………………..,6,\"3,295,669\",\"3,287,116\",\"8,553\",,\n",
      "\n",
      "14 Delaware……………………………………..,1,\"668,696\",\"666,168\",\"2,528\",,\n",
      "\n",
      "15 District of Columbia……………………………………..,...,…,\"606,900\",\"3,009\",,\n",
      "\n",
      "16 Florida……………………………………..,23,\"13,003,362\",\"12,937,926\",\"65,436\",,\n",
      "\n",
      "17 Georgia……………………………………..,11,\"6,508,419\",\"6,478,216\",\"30,203\",,\n",
      "\n",
      "18 Hawaii……………………………………..,2,\"1,115,274\",\"1,108,229\",\"7,045\",,\n",
      "\n",
      "19 Idaho……………………………………..,2,\"1,011,986\",\"1,006,749\",\"5,237\",,\n",
      "\n",
      "20 Illinois……………………………………..,20,\"11,466,682\",\"11,430,602\",\"36,080\",,\n",
      "\n",
      "21 Indiana……………………………………..,10,\"5,564,228\",\"5,544,159\",\"20,069\",,\n",
      "\n",
      "22 Iowa……………………………………..,5,\"2,787,424\",\"2,776,755\",\"10,669\",,\n",
      "\n",
      "23 Kansas……………………………………..,4,\"2,485,600\",\"2,477,574\",\"8,026\",,\n",
      "\n",
      "24 Kentucky……………………………………..,6,\"3,698,969\",\"3,685,296\",\"13,673\",,\n",
      "\n",
      "25 Louisiana……………………………………..,7,\"4,238,216\",\"4,219,973\",\"18,243\",,\n",
      "\n",
      "26 Maine……………………………………..,2,\"1,233,223\",\"1,227,928\",\"5,295\",,\n",
      "\n",
      "27 Maryland……………………………………..,8,\"4,798,622\",\"4,781,468\",\"17,154\",,\n",
      "\n",
      "28 Massachusetts……………………………………..,10,\"6,029,051\",\"6,016,425\",\"12,626\",,\n",
      "\n",
      "29 Michigan……………………………………..,16,\"9,328,784\",\"9,295,297\",\"33,487\",,\n",
      "\n",
      "30 Minnesota……………………………………..,8,\"4,387,029\",\"4,375,099\",\"11,930\",,\n",
      "\n",
      "31 Mississippi……………………………………..,5,\"2,586,443\",\"2,573,216\",\"13,227\",,\n",
      "\n",
      "32 Missouri……………………………………..,9,\"5,137,804\",\"5,117,073\",\"20,731\",,\n",
      "\n",
      "33 Montana……………………………………..,1,\"803,655\",\"799,065\",\"4,590\",,\n",
      "\n",
      "34 Nebraska……………………………………..,3,\"1,584,617\",\"1,578,385\",\"6,232\",,\n",
      "\n",
      "35 Nevada……………………………………..,2,\"1,206,152\",\"1,201,833\",\"4,319\",,\n",
      "\n",
      "36 New Hampshire……………………………………..,2,\"1,113,915\",\"1,109,252\",\"4,663\",,\n",
      "\n",
      "37 New Jersey……………………………………..,13,\"7,748,634\",\"7,730,188\",\"18,446\",,\n",
      "\n",
      "38 New Mexico……………………………………..,3,\"1,521,779\",\"1,515,069\",\"6,710\",,\n",
      "\n",
      "39 New York……………………………………..,31,\"18,044,505\",\"17,990,455\",\"54,050\",,\n",
      "\n",
      "40 North Carolina……………………………………..,12,\"6,657,630\",\"6,628,637\",\"28,993\",,\n",
      "\n",
      "41 North Dakota……………………………………..,1,\"641,364\",\"638,800\",\"2,564\",,\n",
      "\n",
      "42 Ohio……………………………………..,19,\"10,887,325\",\"10,847,115\",\"40,210\",,\n",
      "\n",
      "43 Oklahoma……………………………………..,6,\"3,157,604\",\"3,145,585\",\"12,019\",,\n",
      "\n",
      "44 Oregon……………………………………..,5,\"2,853,733\",\"2,842,321\",\"11,412\",,\n",
      "\n",
      "45 Pennsylvania……………………………………..,21,\"11,924,710\",\"11,881,643\",\"43,067\",,\n",
      "\n",
      "46 Rhode Island……………………………………..,2,\"1,005,984\",\"1,003,464\",\"2,520\",,\n",
      "\n",
      "47 South Carolina……………………………………..,6,\"3,505,707\",\"3,486,703\",\"19,004\",,\n",
      "\n",
      "48 South Dakota……………………………………..,1,\"699,999\",\"696,004\",\"3,995\",,\n",
      "\n",
      "49 Tennessee……………………………………..,9,\"4,896,641\",\"4,877,185\",\"19,456\",,\n",
      "\n",
      "50 Texas……………………………………..,30,\"17,059,805\",\"16,986,510\",\"73,295\",,\n",
      "\n",
      "51 Utah……………………………………..,3,\"1,727,784\",\"1,722,850\",\"4,934\",,\n",
      "\n",
      "52 Vermont……………………………………..,1,\"564,964\",\"562,758\",\"2,206\",,\n",
      "\n",
      "53 Virginia……………………………………..,11,\"6,216,568\",\"6,187,358\",\"29,210\",,\n",
      "\n",
      "54 Washington……………………………………..,9,\"4,887,941\",\"4,866,692\",\"21,249\",,\n",
      "\n",
      "55 West Virginia……………………………………..,3,\"1,801,625\",\"1,793,477\",\"8,148\",,\n",
      "\n",
      "56 Wisconsin……………………………………..,9,\"4,906,745\",\"4,891,769\",\"14,976\",,\n",
      "\n",
      "57 Wyoming……………………………………..,1,\"455,975\",\"453,588\",\"2,387\",,\n",
      "\n",
      "58 ,,,,,,\n",
      "\n",
      "59 1 The apportionment population does not include the resident or the overseas population for the District of Columbia,,,,,,\n"
     ]
    }
   ],
   "source": [
    "### review the 1990 file\n",
    "\n",
    "with open('1990_apportionment_raw.csv', 'r') as f:\n",
    "    w = 0\n",
    "    for line in f.readlines():\n",
    "        print(w, line)\n",
    "        w +=1"
   ]
  },
  {
   "cell_type": "code",
   "execution_count": 5,
   "metadata": {
    "collapsed": true
   },
   "outputs": [],
   "source": [
    "### lordy, that is horrid. Try with csv reader\n",
    "import csv"
   ]
  },
  {
   "cell_type": "code",
   "execution_count": 37,
   "metadata": {
    "collapsed": false
   },
   "outputs": [
    {
     "data": {
      "text/plain": [
       "60"
      ]
     },
     "execution_count": 37,
     "metadata": {},
     "output_type": "execute_result"
    }
   ],
   "source": [
    "with open('1990_apportionment_raw.txt', newline='') as csvfile:\n",
    "    reader = csv.reader(csvfile, delimiter='\\t', quotechar='|')\n",
    "    #for row in reader:\n",
    "    #   print(row)\n",
    "    f = [x for x in reader]\n",
    "        \n",
    "len(f)      "
   ]
  },
  {
   "cell_type": "code",
   "execution_count": 40,
   "metadata": {
    "collapsed": false
   },
   "outputs": [
    {
     "data": {
      "text/plain": [
       "[['States   ', 'Size of State', 'Apportionment', '', 'United States', '', ''],\n",
       " ['',\n",
       "  'delegation',\n",
       "  'population',\n",
       "  'Resident population',\n",
       "  'population abroad',\n",
       "  '',\n",
       "  '']]"
      ]
     },
     "execution_count": 40,
     "metadata": {},
     "output_type": "execute_result"
    }
   ],
   "source": [
    "f[2:4]"
   ]
  },
  {
   "cell_type": "code",
   "execution_count": 7,
   "metadata": {
    "collapsed": false
   },
   "outputs": [
    {
     "data": {
      "text/plain": [
       "'State'"
      ]
     },
     "execution_count": 7,
     "metadata": {},
     "output_type": "execute_result"
    }
   ],
   "source": [
    "(f[2][0].strip() + ' '+ f[3][0].strip()).strip()"
   ]
  },
  {
   "cell_type": "code",
   "execution_count": 31,
   "metadata": {
    "collapsed": false
   },
   "outputs": [
    {
     "data": {
      "text/plain": [
       "'delegation'"
      ]
     },
     "execution_count": 31,
     "metadata": {},
     "output_type": "execute_result"
    }
   ],
   "source": [
    "f[3][1]"
   ]
  },
  {
   "cell_type": "code",
   "execution_count": 41,
   "metadata": {
    "collapsed": false
   },
   "outputs": [
    {
     "data": {
      "text/plain": [
       "['States',\n",
       " 'Size of State delegation',\n",
       " 'Apportionment population',\n",
       " 'Resident population',\n",
       " 'United States population abroad',\n",
       " '',\n",
       " '']"
      ]
     },
     "execution_count": 41,
     "metadata": {},
     "output_type": "execute_result"
    }
   ],
   "source": [
    "header_names = [(f[2][x].strip() + ' '+ f[3][x].strip()).strip() for x in range(len(f[2]))]\n",
    "header_names"
   ]
  },
  {
   "cell_type": "code",
   "execution_count": 47,
   "metadata": {
    "collapsed": false
   },
   "outputs": [
    {
     "name": "stdout",
     "output_type": "stream",
     "text": [
      "<function <lambda> at 0x114150ae8> some\u0000string. with\u0015 funny characters\n"
     ]
    }
   ],
   "source": [
    "\n"
   ]
  },
  {
   "cell_type": "code",
   "execution_count": 56,
   "metadata": {
    "collapsed": false
   },
   "outputs": [],
   "source": [
    "import re\n",
    "fxn = lambda x: re.sub(r'[^\\x00-\\x7f]',r'',x).strip('.')"
   ]
  },
  {
   "cell_type": "code",
   "execution_count": 58,
   "metadata": {
    "collapsed": false
   },
   "outputs": [
    {
     "data": {
      "text/plain": [
       "'Alabama'"
      ]
     },
     "execution_count": 58,
     "metadata": {},
     "output_type": "execute_result"
    }
   ],
   "source": [
    "fxn(f[7][0])"
   ]
  },
  {
   "cell_type": "code",
   "execution_count": 111,
   "metadata": {
    "collapsed": false
   },
   "outputs": [
    {
     "data": {
      "text/plain": [
       "60"
      ]
     },
     "execution_count": 111,
     "metadata": {},
     "output_type": "execute_result"
    }
   ],
   "source": [
    "import re\n",
    "fxn = lambda x: re.sub(r'[^\\x00-\\x7f]',r'',x).strip('.').strip('\"').upper()\n",
    "g = []\n",
    "with open('1990_apportionment_raw.txt', newline='') as csvfile:\n",
    "    reader = csv.reader(csvfile, delimiter='\\t', quotechar='|')\n",
    "    for row in reader:\n",
    "        g.append([fxn(x) for x in row[:5]])\n",
    "    \n",
    "        \n",
    "len(g) "
   ]
  },
  {
   "cell_type": "code",
   "execution_count": 109,
   "metadata": {
    "collapsed": false
   },
   "outputs": [
    {
     "data": {
      "text/plain": [
       "'ALASKA'"
      ]
     },
     "execution_count": 109,
     "metadata": {},
     "output_type": "execute_result"
    }
   ],
   "source": [
    "fxn(f[8][0])"
   ]
  },
  {
   "cell_type": "code",
   "execution_count": 110,
   "metadata": {
    "collapsed": false
   },
   "outputs": [
    {
     "data": {
      "text/plain": [
       "['ALASKA', '1', '551,947', '550,043', '1,904', '']"
      ]
     },
     "execution_count": 110,
     "metadata": {},
     "output_type": "execute_result"
    }
   ],
   "source": [
    "g[8]"
   ]
  },
  {
   "cell_type": "code",
   "execution_count": 112,
   "metadata": {
    "collapsed": true
   },
   "outputs": [],
   "source": [
    "header_names = [(g[2][x].strip() + ' '+ g[3][x].strip()).strip() for x in range(len(g[2]))]"
   ]
  },
  {
   "cell_type": "code",
   "execution_count": 113,
   "metadata": {
    "collapsed": false
   },
   "outputs": [
    {
     "data": {
      "text/plain": [
       "['STATES',\n",
       " 'SIZE OF STATE DELEGATION',\n",
       " 'APPORTIONMENT POPULATION',\n",
       " 'RESIDENT POPULATION',\n",
       " 'UNITED STATES POPULATION ABROAD']"
      ]
     },
     "execution_count": 113,
     "metadata": {},
     "output_type": "execute_result"
    }
   ],
   "source": [
    "header_names"
   ]
  },
  {
   "cell_type": "code",
   "execution_count": 114,
   "metadata": {
    "collapsed": false
   },
   "outputs": [
    {
     "data": {
      "text/plain": [
       "['ALABAMA', '7', '4,062,608', '4,040,587', '22,021']"
      ]
     },
     "execution_count": 114,
     "metadata": {},
     "output_type": "execute_result"
    }
   ],
   "source": [
    "g[7]"
   ]
  },
  {
   "cell_type": "code",
   "execution_count": 115,
   "metadata": {
    "collapsed": false
   },
   "outputs": [
    {
     "data": {
      "text/plain": [
       "['WYOMING', '1', '455,975', '453,588', '2,387']"
      ]
     },
     "execution_count": 115,
     "metadata": {},
     "output_type": "execute_result"
    }
   ],
   "source": [
    "g[57]"
   ]
  },
  {
   "cell_type": "code",
   "execution_count": 242,
   "metadata": {
    "collapsed": true
   },
   "outputs": [],
   "source": [
    "g1 = g[7:58]"
   ]
  },
  {
   "cell_type": "code",
   "execution_count": 243,
   "metadata": {
    "collapsed": false
   },
   "outputs": [
    {
     "data": {
      "text/plain": [
       "['WYOMING', '1', '455,975', '453,588', '2,387']"
      ]
     },
     "execution_count": 243,
     "metadata": {},
     "output_type": "execute_result"
    }
   ],
   "source": [
    "g1[-1]"
   ]
  },
  {
   "cell_type": "code",
   "execution_count": 244,
   "metadata": {
    "collapsed": false
   },
   "outputs": [],
   "source": [
    "ca1990 = pd.DataFrame(g1, columns=header_names) "
   ]
  },
  {
   "cell_type": "code",
   "execution_count": 245,
   "metadata": {
    "collapsed": false
   },
   "outputs": [
    {
     "data": {
      "text/html": [
       "<div>\n",
       "<table border=\"1\" class=\"dataframe\">\n",
       "  <thead>\n",
       "    <tr style=\"text-align: right;\">\n",
       "      <th></th>\n",
       "      <th>STATES</th>\n",
       "      <th>SIZE OF STATE DELEGATION</th>\n",
       "      <th>APPORTIONMENT POPULATION</th>\n",
       "      <th>RESIDENT POPULATION</th>\n",
       "      <th>UNITED STATES POPULATION ABROAD</th>\n",
       "    </tr>\n",
       "  </thead>\n",
       "  <tbody>\n",
       "    <tr>\n",
       "      <th>0</th>\n",
       "      <td>ALABAMA</td>\n",
       "      <td>7</td>\n",
       "      <td>4,062,608</td>\n",
       "      <td>4,040,587</td>\n",
       "      <td>22,021</td>\n",
       "    </tr>\n",
       "    <tr>\n",
       "      <th>1</th>\n",
       "      <td>ALASKA</td>\n",
       "      <td>1</td>\n",
       "      <td>551,947</td>\n",
       "      <td>550,043</td>\n",
       "      <td>1,904</td>\n",
       "    </tr>\n",
       "    <tr>\n",
       "      <th>2</th>\n",
       "      <td>ARIZONA</td>\n",
       "      <td>6</td>\n",
       "      <td>3,677,985</td>\n",
       "      <td>3,665,228</td>\n",
       "      <td>12,757</td>\n",
       "    </tr>\n",
       "    <tr>\n",
       "      <th>3</th>\n",
       "      <td>ARKANSAS</td>\n",
       "      <td>4</td>\n",
       "      <td>2,362,239</td>\n",
       "      <td>2,350,725</td>\n",
       "      <td>11,514</td>\n",
       "    </tr>\n",
       "    <tr>\n",
       "      <th>4</th>\n",
       "      <td>CALIFORNIA</td>\n",
       "      <td>52</td>\n",
       "      <td>29,839,250</td>\n",
       "      <td>29,760,021</td>\n",
       "      <td>79,229</td>\n",
       "    </tr>\n",
       "  </tbody>\n",
       "</table>\n",
       "</div>"
      ],
      "text/plain": [
       "       STATES SIZE OF STATE DELEGATION APPORTIONMENT POPULATION  \\\n",
       "0     ALABAMA                        7                4,062,608   \n",
       "1      ALASKA                        1                  551,947   \n",
       "2     ARIZONA                        6                3,677,985   \n",
       "3    ARKANSAS                        4                2,362,239   \n",
       "4  CALIFORNIA                       52               29,839,250   \n",
       "\n",
       "  RESIDENT POPULATION UNITED STATES POPULATION ABROAD  \n",
       "0           4,040,587                          22,021  \n",
       "1             550,043                           1,904  \n",
       "2           3,665,228                          12,757  \n",
       "3           2,350,725                          11,514  \n",
       "4          29,760,021                          79,229  "
      ]
     },
     "execution_count": 245,
     "metadata": {},
     "output_type": "execute_result"
    }
   ],
   "source": [
    "ca1990.head()"
   ]
  },
  {
   "cell_type": "code",
   "execution_count": 246,
   "metadata": {
    "collapsed": false
   },
   "outputs": [
    {
     "data": {
      "text/plain": [
       "str"
      ]
     },
     "execution_count": 246,
     "metadata": {},
     "output_type": "execute_result"
    }
   ],
   "source": [
    "type(ca1990['SIZE OF STATE DELEGATION'][0])"
   ]
  },
  {
   "cell_type": "code",
   "execution_count": 129,
   "metadata": {
    "collapsed": false
   },
   "outputs": [],
   "source": []
  },
  {
   "cell_type": "code",
   "execution_count": 247,
   "metadata": {
    "collapsed": false
   },
   "outputs": [],
   "source": [
    "for y in ca1990.columns[1:]:\n",
    "    ca1990[y] = ca1990[y].map(\n",
    "        lambda x: int(x.replace(',','')) if x != '' else 0)"
   ]
  },
  {
   "cell_type": "code",
   "execution_count": 248,
   "metadata": {
    "collapsed": false
   },
   "outputs": [
    {
     "data": {
      "text/html": [
       "<div>\n",
       "<table border=\"1\" class=\"dataframe\">\n",
       "  <thead>\n",
       "    <tr style=\"text-align: right;\">\n",
       "      <th></th>\n",
       "      <th>STATES</th>\n",
       "      <th>SIZE OF STATE DELEGATION</th>\n",
       "      <th>APPORTIONMENT POPULATION</th>\n",
       "      <th>RESIDENT POPULATION</th>\n",
       "      <th>UNITED STATES POPULATION ABROAD</th>\n",
       "    </tr>\n",
       "  </thead>\n",
       "  <tbody>\n",
       "    <tr>\n",
       "      <th>0</th>\n",
       "      <td>ALABAMA</td>\n",
       "      <td>7</td>\n",
       "      <td>4062608</td>\n",
       "      <td>4040587</td>\n",
       "      <td>22021</td>\n",
       "    </tr>\n",
       "    <tr>\n",
       "      <th>1</th>\n",
       "      <td>ALASKA</td>\n",
       "      <td>1</td>\n",
       "      <td>551947</td>\n",
       "      <td>550043</td>\n",
       "      <td>1904</td>\n",
       "    </tr>\n",
       "    <tr>\n",
       "      <th>2</th>\n",
       "      <td>ARIZONA</td>\n",
       "      <td>6</td>\n",
       "      <td>3677985</td>\n",
       "      <td>3665228</td>\n",
       "      <td>12757</td>\n",
       "    </tr>\n",
       "    <tr>\n",
       "      <th>3</th>\n",
       "      <td>ARKANSAS</td>\n",
       "      <td>4</td>\n",
       "      <td>2362239</td>\n",
       "      <td>2350725</td>\n",
       "      <td>11514</td>\n",
       "    </tr>\n",
       "    <tr>\n",
       "      <th>4</th>\n",
       "      <td>CALIFORNIA</td>\n",
       "      <td>52</td>\n",
       "      <td>29839250</td>\n",
       "      <td>29760021</td>\n",
       "      <td>79229</td>\n",
       "    </tr>\n",
       "    <tr>\n",
       "      <th>5</th>\n",
       "      <td>COLORADO</td>\n",
       "      <td>6</td>\n",
       "      <td>3307912</td>\n",
       "      <td>3294394</td>\n",
       "      <td>13518</td>\n",
       "    </tr>\n",
       "    <tr>\n",
       "      <th>6</th>\n",
       "      <td>CONNECTICUT</td>\n",
       "      <td>6</td>\n",
       "      <td>3295669</td>\n",
       "      <td>3287116</td>\n",
       "      <td>8553</td>\n",
       "    </tr>\n",
       "    <tr>\n",
       "      <th>7</th>\n",
       "      <td>DELAWARE</td>\n",
       "      <td>1</td>\n",
       "      <td>668696</td>\n",
       "      <td>666168</td>\n",
       "      <td>2528</td>\n",
       "    </tr>\n",
       "    <tr>\n",
       "      <th>8</th>\n",
       "      <td>DISTRICT OF COLUMBIA</td>\n",
       "      <td>0</td>\n",
       "      <td>0</td>\n",
       "      <td>606900</td>\n",
       "      <td>3009</td>\n",
       "    </tr>\n",
       "    <tr>\n",
       "      <th>9</th>\n",
       "      <td>FLORIDA</td>\n",
       "      <td>23</td>\n",
       "      <td>13003362</td>\n",
       "      <td>12937926</td>\n",
       "      <td>65436</td>\n",
       "    </tr>\n",
       "    <tr>\n",
       "      <th>10</th>\n",
       "      <td>GEORGIA</td>\n",
       "      <td>11</td>\n",
       "      <td>6508419</td>\n",
       "      <td>6478216</td>\n",
       "      <td>30203</td>\n",
       "    </tr>\n",
       "    <tr>\n",
       "      <th>11</th>\n",
       "      <td>HAWAII</td>\n",
       "      <td>2</td>\n",
       "      <td>1115274</td>\n",
       "      <td>1108229</td>\n",
       "      <td>7045</td>\n",
       "    </tr>\n",
       "    <tr>\n",
       "      <th>12</th>\n",
       "      <td>IDAHO</td>\n",
       "      <td>2</td>\n",
       "      <td>1011986</td>\n",
       "      <td>1006749</td>\n",
       "      <td>5237</td>\n",
       "    </tr>\n",
       "    <tr>\n",
       "      <th>13</th>\n",
       "      <td>ILLINOIS</td>\n",
       "      <td>20</td>\n",
       "      <td>11466682</td>\n",
       "      <td>11430602</td>\n",
       "      <td>36080</td>\n",
       "    </tr>\n",
       "    <tr>\n",
       "      <th>14</th>\n",
       "      <td>INDIANA</td>\n",
       "      <td>10</td>\n",
       "      <td>5564228</td>\n",
       "      <td>5544159</td>\n",
       "      <td>20069</td>\n",
       "    </tr>\n",
       "  </tbody>\n",
       "</table>\n",
       "</div>"
      ],
      "text/plain": [
       "                  STATES  SIZE OF STATE DELEGATION  APPORTIONMENT POPULATION  \\\n",
       "0                ALABAMA                         7                   4062608   \n",
       "1                 ALASKA                         1                    551947   \n",
       "2                ARIZONA                         6                   3677985   \n",
       "3               ARKANSAS                         4                   2362239   \n",
       "4             CALIFORNIA                        52                  29839250   \n",
       "5               COLORADO                         6                   3307912   \n",
       "6            CONNECTICUT                         6                   3295669   \n",
       "7               DELAWARE                         1                    668696   \n",
       "8   DISTRICT OF COLUMBIA                         0                         0   \n",
       "9                FLORIDA                        23                  13003362   \n",
       "10               GEORGIA                        11                   6508419   \n",
       "11                HAWAII                         2                   1115274   \n",
       "12                 IDAHO                         2                   1011986   \n",
       "13              ILLINOIS                        20                  11466682   \n",
       "14               INDIANA                        10                   5564228   \n",
       "\n",
       "    RESIDENT POPULATION  UNITED STATES POPULATION ABROAD  \n",
       "0               4040587                            22021  \n",
       "1                550043                             1904  \n",
       "2               3665228                            12757  \n",
       "3               2350725                            11514  \n",
       "4              29760021                            79229  \n",
       "5               3294394                            13518  \n",
       "6               3287116                             8553  \n",
       "7                666168                             2528  \n",
       "8                606900                             3009  \n",
       "9              12937926                            65436  \n",
       "10              6478216                            30203  \n",
       "11              1108229                             7045  \n",
       "12              1006749                             5237  \n",
       "13             11430602                            36080  \n",
       "14              5544159                            20069  "
      ]
     },
     "execution_count": 248,
     "metadata": {},
     "output_type": "execute_result"
    }
   ],
   "source": [
    "ca1990.head(15)"
   ]
  },
  {
   "cell_type": "code",
   "execution_count": 249,
   "metadata": {
    "collapsed": false
   },
   "outputs": [],
   "source": [
    "###  Twenty-third Amendment gives DC 3 electoral votes \n",
    "ca1990['TOTAL ELECTORAL VOTES'] = ca1990['SIZE OF STATE DELEGATION'].map(\n",
    "    lambda x: int(x)+2 if x != 0 else 3)"
   ]
  },
  {
   "cell_type": "code",
   "execution_count": 250,
   "metadata": {
    "collapsed": false
   },
   "outputs": [
    {
     "data": {
      "text/html": [
       "<div>\n",
       "<table border=\"1\" class=\"dataframe\">\n",
       "  <thead>\n",
       "    <tr style=\"text-align: right;\">\n",
       "      <th></th>\n",
       "      <th>STATES</th>\n",
       "      <th>SIZE OF STATE DELEGATION</th>\n",
       "      <th>APPORTIONMENT POPULATION</th>\n",
       "      <th>RESIDENT POPULATION</th>\n",
       "      <th>UNITED STATES POPULATION ABROAD</th>\n",
       "      <th>TOTAL ELECTORAL VOTES</th>\n",
       "    </tr>\n",
       "  </thead>\n",
       "  <tbody>\n",
       "    <tr>\n",
       "      <th>0</th>\n",
       "      <td>ALABAMA</td>\n",
       "      <td>7</td>\n",
       "      <td>4062608</td>\n",
       "      <td>4040587</td>\n",
       "      <td>22021</td>\n",
       "      <td>9</td>\n",
       "    </tr>\n",
       "    <tr>\n",
       "      <th>1</th>\n",
       "      <td>ALASKA</td>\n",
       "      <td>1</td>\n",
       "      <td>551947</td>\n",
       "      <td>550043</td>\n",
       "      <td>1904</td>\n",
       "      <td>3</td>\n",
       "    </tr>\n",
       "    <tr>\n",
       "      <th>2</th>\n",
       "      <td>ARIZONA</td>\n",
       "      <td>6</td>\n",
       "      <td>3677985</td>\n",
       "      <td>3665228</td>\n",
       "      <td>12757</td>\n",
       "      <td>8</td>\n",
       "    </tr>\n",
       "    <tr>\n",
       "      <th>3</th>\n",
       "      <td>ARKANSAS</td>\n",
       "      <td>4</td>\n",
       "      <td>2362239</td>\n",
       "      <td>2350725</td>\n",
       "      <td>11514</td>\n",
       "      <td>6</td>\n",
       "    </tr>\n",
       "    <tr>\n",
       "      <th>4</th>\n",
       "      <td>CALIFORNIA</td>\n",
       "      <td>52</td>\n",
       "      <td>29839250</td>\n",
       "      <td>29760021</td>\n",
       "      <td>79229</td>\n",
       "      <td>54</td>\n",
       "    </tr>\n",
       "    <tr>\n",
       "      <th>5</th>\n",
       "      <td>COLORADO</td>\n",
       "      <td>6</td>\n",
       "      <td>3307912</td>\n",
       "      <td>3294394</td>\n",
       "      <td>13518</td>\n",
       "      <td>8</td>\n",
       "    </tr>\n",
       "    <tr>\n",
       "      <th>6</th>\n",
       "      <td>CONNECTICUT</td>\n",
       "      <td>6</td>\n",
       "      <td>3295669</td>\n",
       "      <td>3287116</td>\n",
       "      <td>8553</td>\n",
       "      <td>8</td>\n",
       "    </tr>\n",
       "    <tr>\n",
       "      <th>7</th>\n",
       "      <td>DELAWARE</td>\n",
       "      <td>1</td>\n",
       "      <td>668696</td>\n",
       "      <td>666168</td>\n",
       "      <td>2528</td>\n",
       "      <td>3</td>\n",
       "    </tr>\n",
       "    <tr>\n",
       "      <th>8</th>\n",
       "      <td>DISTRICT OF COLUMBIA</td>\n",
       "      <td>0</td>\n",
       "      <td>0</td>\n",
       "      <td>606900</td>\n",
       "      <td>3009</td>\n",
       "      <td>3</td>\n",
       "    </tr>\n",
       "    <tr>\n",
       "      <th>9</th>\n",
       "      <td>FLORIDA</td>\n",
       "      <td>23</td>\n",
       "      <td>13003362</td>\n",
       "      <td>12937926</td>\n",
       "      <td>65436</td>\n",
       "      <td>25</td>\n",
       "    </tr>\n",
       "  </tbody>\n",
       "</table>\n",
       "</div>"
      ],
      "text/plain": [
       "                 STATES  SIZE OF STATE DELEGATION  APPORTIONMENT POPULATION  \\\n",
       "0               ALABAMA                         7                   4062608   \n",
       "1                ALASKA                         1                    551947   \n",
       "2               ARIZONA                         6                   3677985   \n",
       "3              ARKANSAS                         4                   2362239   \n",
       "4            CALIFORNIA                        52                  29839250   \n",
       "5              COLORADO                         6                   3307912   \n",
       "6           CONNECTICUT                         6                   3295669   \n",
       "7              DELAWARE                         1                    668696   \n",
       "8  DISTRICT OF COLUMBIA                         0                         0   \n",
       "9               FLORIDA                        23                  13003362   \n",
       "\n",
       "   RESIDENT POPULATION  UNITED STATES POPULATION ABROAD  TOTAL ELECTORAL VOTES  \n",
       "0              4040587                            22021                      9  \n",
       "1               550043                             1904                      3  \n",
       "2              3665228                            12757                      8  \n",
       "3              2350725                            11514                      6  \n",
       "4             29760021                            79229                     54  \n",
       "5              3294394                            13518                      8  \n",
       "6              3287116                             8553                      8  \n",
       "7               666168                             2528                      3  \n",
       "8               606900                             3009                      3  \n",
       "9             12937926                            65436                     25  "
      ]
     },
     "execution_count": 250,
     "metadata": {},
     "output_type": "execute_result"
    }
   ],
   "source": [
    "ca1990.head(10)"
   ]
  },
  {
   "cell_type": "code",
   "execution_count": 251,
   "metadata": {
    "collapsed": false
   },
   "outputs": [],
   "source": [
    "ca1990['NUMBER OF CITIZENS PER ELECTORAL VOTE'] = ca1990['APPORTIONMENT POPULATION']/ca1990['TOTAL ELECTORAL VOTES']"
   ]
  },
  {
   "cell_type": "code",
   "execution_count": 252,
   "metadata": {
    "collapsed": false
   },
   "outputs": [],
   "source": [
    "ca1990['NUMBER OF CITIZENS PER ELECTORAL VOTE'] = ca1990['NUMBER OF CITIZENS PER ELECTORAL VOTE'].map(lambda x: int(x))"
   ]
  },
  {
   "cell_type": "code",
   "execution_count": 193,
   "metadata": {
    "collapsed": false
   },
   "outputs": [],
   "source": []
  },
  {
   "cell_type": "code",
   "execution_count": 253,
   "metadata": {
    "collapsed": false
   },
   "outputs": [
    {
     "data": {
      "text/html": [
       "<div>\n",
       "<table border=\"1\" class=\"dataframe\">\n",
       "  <thead>\n",
       "    <tr style=\"text-align: right;\">\n",
       "      <th></th>\n",
       "      <th>STATES</th>\n",
       "      <th>SIZE OF STATE DELEGATION</th>\n",
       "      <th>APPORTIONMENT POPULATION</th>\n",
       "      <th>RESIDENT POPULATION</th>\n",
       "      <th>UNITED STATES POPULATION ABROAD</th>\n",
       "      <th>TOTAL ELECTORAL VOTES</th>\n",
       "      <th>NUMBER OF CITIZENS PER ELECTORAL VOTE</th>\n",
       "    </tr>\n",
       "  </thead>\n",
       "  <tbody>\n",
       "    <tr>\n",
       "      <th>0</th>\n",
       "      <td>ALABAMA</td>\n",
       "      <td>7</td>\n",
       "      <td>4062608</td>\n",
       "      <td>4040587</td>\n",
       "      <td>22021</td>\n",
       "      <td>9</td>\n",
       "      <td>451400</td>\n",
       "    </tr>\n",
       "    <tr>\n",
       "      <th>1</th>\n",
       "      <td>ALASKA</td>\n",
       "      <td>1</td>\n",
       "      <td>551947</td>\n",
       "      <td>550043</td>\n",
       "      <td>1904</td>\n",
       "      <td>3</td>\n",
       "      <td>183982</td>\n",
       "    </tr>\n",
       "    <tr>\n",
       "      <th>2</th>\n",
       "      <td>ARIZONA</td>\n",
       "      <td>6</td>\n",
       "      <td>3677985</td>\n",
       "      <td>3665228</td>\n",
       "      <td>12757</td>\n",
       "      <td>8</td>\n",
       "      <td>459748</td>\n",
       "    </tr>\n",
       "    <tr>\n",
       "      <th>3</th>\n",
       "      <td>ARKANSAS</td>\n",
       "      <td>4</td>\n",
       "      <td>2362239</td>\n",
       "      <td>2350725</td>\n",
       "      <td>11514</td>\n",
       "      <td>6</td>\n",
       "      <td>393706</td>\n",
       "    </tr>\n",
       "    <tr>\n",
       "      <th>4</th>\n",
       "      <td>CALIFORNIA</td>\n",
       "      <td>52</td>\n",
       "      <td>29839250</td>\n",
       "      <td>29760021</td>\n",
       "      <td>79229</td>\n",
       "      <td>54</td>\n",
       "      <td>552578</td>\n",
       "    </tr>\n",
       "    <tr>\n",
       "      <th>5</th>\n",
       "      <td>COLORADO</td>\n",
       "      <td>6</td>\n",
       "      <td>3307912</td>\n",
       "      <td>3294394</td>\n",
       "      <td>13518</td>\n",
       "      <td>8</td>\n",
       "      <td>413489</td>\n",
       "    </tr>\n",
       "    <tr>\n",
       "      <th>6</th>\n",
       "      <td>CONNECTICUT</td>\n",
       "      <td>6</td>\n",
       "      <td>3295669</td>\n",
       "      <td>3287116</td>\n",
       "      <td>8553</td>\n",
       "      <td>8</td>\n",
       "      <td>411958</td>\n",
       "    </tr>\n",
       "    <tr>\n",
       "      <th>7</th>\n",
       "      <td>DELAWARE</td>\n",
       "      <td>1</td>\n",
       "      <td>668696</td>\n",
       "      <td>666168</td>\n",
       "      <td>2528</td>\n",
       "      <td>3</td>\n",
       "      <td>222898</td>\n",
       "    </tr>\n",
       "    <tr>\n",
       "      <th>8</th>\n",
       "      <td>DISTRICT OF COLUMBIA</td>\n",
       "      <td>0</td>\n",
       "      <td>0</td>\n",
       "      <td>606900</td>\n",
       "      <td>3009</td>\n",
       "      <td>3</td>\n",
       "      <td>0</td>\n",
       "    </tr>\n",
       "    <tr>\n",
       "      <th>9</th>\n",
       "      <td>FLORIDA</td>\n",
       "      <td>23</td>\n",
       "      <td>13003362</td>\n",
       "      <td>12937926</td>\n",
       "      <td>65436</td>\n",
       "      <td>25</td>\n",
       "      <td>520134</td>\n",
       "    </tr>\n",
       "  </tbody>\n",
       "</table>\n",
       "</div>"
      ],
      "text/plain": [
       "                 STATES  SIZE OF STATE DELEGATION  APPORTIONMENT POPULATION  \\\n",
       "0               ALABAMA                         7                   4062608   \n",
       "1                ALASKA                         1                    551947   \n",
       "2               ARIZONA                         6                   3677985   \n",
       "3              ARKANSAS                         4                   2362239   \n",
       "4            CALIFORNIA                        52                  29839250   \n",
       "5              COLORADO                         6                   3307912   \n",
       "6           CONNECTICUT                         6                   3295669   \n",
       "7              DELAWARE                         1                    668696   \n",
       "8  DISTRICT OF COLUMBIA                         0                         0   \n",
       "9               FLORIDA                        23                  13003362   \n",
       "\n",
       "   RESIDENT POPULATION  UNITED STATES POPULATION ABROAD  \\\n",
       "0              4040587                            22021   \n",
       "1               550043                             1904   \n",
       "2              3665228                            12757   \n",
       "3              2350725                            11514   \n",
       "4             29760021                            79229   \n",
       "5              3294394                            13518   \n",
       "6              3287116                             8553   \n",
       "7               666168                             2528   \n",
       "8               606900                             3009   \n",
       "9             12937926                            65436   \n",
       "\n",
       "   TOTAL ELECTORAL VOTES  NUMBER OF CITIZENS PER ELECTORAL VOTE  \n",
       "0                      9                                 451400  \n",
       "1                      3                                 183982  \n",
       "2                      8                                 459748  \n",
       "3                      6                                 393706  \n",
       "4                     54                                 552578  \n",
       "5                      8                                 413489  \n",
       "6                      8                                 411958  \n",
       "7                      3                                 222898  \n",
       "8                      3                                      0  \n",
       "9                     25                                 520134  "
      ]
     },
     "execution_count": 253,
     "metadata": {},
     "output_type": "execute_result"
    }
   ],
   "source": [
    "ca1990.head(10)"
   ]
  },
  {
   "cell_type": "code",
   "execution_count": 254,
   "metadata": {
    "collapsed": false
   },
   "outputs": [
    {
     "name": "stderr",
     "output_type": "stream",
     "text": [
      "/Users/nicholeh/anaconda/lib/python3.5/site-packages/pandas/core/indexing.py:141: SettingWithCopyWarning: \n",
      "A value is trying to be set on a copy of a slice from a DataFrame\n",
      "\n",
      "See the caveats in the documentation: http://pandas.pydata.org/pandas-docs/stable/indexing.html#indexing-view-versus-copy\n",
      "  self._setitem_with_indexer(indexer, value)\n"
     ]
    }
   ],
   "source": [
    "### fix DC \n",
    "dc_res = ca1990['RESIDENT POPULATION'].ix[8] + ca1990['UNITED STATES POPULATION ABROAD'].ix[8]\n",
    "ca1990['NUMBER OF CITIZENS PER ELECTORAL VOTE'].ix[8] = int(dc_res/ca1990['TOTAL ELECTORAL VOTES'].ix[8])"
   ]
  },
  {
   "cell_type": "code",
   "execution_count": 255,
   "metadata": {
    "collapsed": false
   },
   "outputs": [
    {
     "data": {
      "text/html": [
       "<div>\n",
       "<table border=\"1\" class=\"dataframe\">\n",
       "  <thead>\n",
       "    <tr style=\"text-align: right;\">\n",
       "      <th></th>\n",
       "      <th>STATES</th>\n",
       "      <th>SIZE OF STATE DELEGATION</th>\n",
       "      <th>APPORTIONMENT POPULATION</th>\n",
       "      <th>RESIDENT POPULATION</th>\n",
       "      <th>UNITED STATES POPULATION ABROAD</th>\n",
       "      <th>TOTAL ELECTORAL VOTES</th>\n",
       "      <th>NUMBER OF CITIZENS PER ELECTORAL VOTE</th>\n",
       "    </tr>\n",
       "  </thead>\n",
       "  <tbody>\n",
       "    <tr>\n",
       "      <th>0</th>\n",
       "      <td>ALABAMA</td>\n",
       "      <td>7</td>\n",
       "      <td>4062608</td>\n",
       "      <td>4040587</td>\n",
       "      <td>22021</td>\n",
       "      <td>9</td>\n",
       "      <td>451400</td>\n",
       "    </tr>\n",
       "    <tr>\n",
       "      <th>1</th>\n",
       "      <td>ALASKA</td>\n",
       "      <td>1</td>\n",
       "      <td>551947</td>\n",
       "      <td>550043</td>\n",
       "      <td>1904</td>\n",
       "      <td>3</td>\n",
       "      <td>183982</td>\n",
       "    </tr>\n",
       "    <tr>\n",
       "      <th>2</th>\n",
       "      <td>ARIZONA</td>\n",
       "      <td>6</td>\n",
       "      <td>3677985</td>\n",
       "      <td>3665228</td>\n",
       "      <td>12757</td>\n",
       "      <td>8</td>\n",
       "      <td>459748</td>\n",
       "    </tr>\n",
       "    <tr>\n",
       "      <th>3</th>\n",
       "      <td>ARKANSAS</td>\n",
       "      <td>4</td>\n",
       "      <td>2362239</td>\n",
       "      <td>2350725</td>\n",
       "      <td>11514</td>\n",
       "      <td>6</td>\n",
       "      <td>393706</td>\n",
       "    </tr>\n",
       "    <tr>\n",
       "      <th>4</th>\n",
       "      <td>CALIFORNIA</td>\n",
       "      <td>52</td>\n",
       "      <td>29839250</td>\n",
       "      <td>29760021</td>\n",
       "      <td>79229</td>\n",
       "      <td>54</td>\n",
       "      <td>552578</td>\n",
       "    </tr>\n",
       "    <tr>\n",
       "      <th>5</th>\n",
       "      <td>COLORADO</td>\n",
       "      <td>6</td>\n",
       "      <td>3307912</td>\n",
       "      <td>3294394</td>\n",
       "      <td>13518</td>\n",
       "      <td>8</td>\n",
       "      <td>413489</td>\n",
       "    </tr>\n",
       "    <tr>\n",
       "      <th>6</th>\n",
       "      <td>CONNECTICUT</td>\n",
       "      <td>6</td>\n",
       "      <td>3295669</td>\n",
       "      <td>3287116</td>\n",
       "      <td>8553</td>\n",
       "      <td>8</td>\n",
       "      <td>411958</td>\n",
       "    </tr>\n",
       "    <tr>\n",
       "      <th>7</th>\n",
       "      <td>DELAWARE</td>\n",
       "      <td>1</td>\n",
       "      <td>668696</td>\n",
       "      <td>666168</td>\n",
       "      <td>2528</td>\n",
       "      <td>3</td>\n",
       "      <td>222898</td>\n",
       "    </tr>\n",
       "    <tr>\n",
       "      <th>8</th>\n",
       "      <td>DISTRICT OF COLUMBIA</td>\n",
       "      <td>0</td>\n",
       "      <td>0</td>\n",
       "      <td>606900</td>\n",
       "      <td>3009</td>\n",
       "      <td>3</td>\n",
       "      <td>203303</td>\n",
       "    </tr>\n",
       "    <tr>\n",
       "      <th>9</th>\n",
       "      <td>FLORIDA</td>\n",
       "      <td>23</td>\n",
       "      <td>13003362</td>\n",
       "      <td>12937926</td>\n",
       "      <td>65436</td>\n",
       "      <td>25</td>\n",
       "      <td>520134</td>\n",
       "    </tr>\n",
       "  </tbody>\n",
       "</table>\n",
       "</div>"
      ],
      "text/plain": [
       "                 STATES  SIZE OF STATE DELEGATION  APPORTIONMENT POPULATION  \\\n",
       "0               ALABAMA                         7                   4062608   \n",
       "1                ALASKA                         1                    551947   \n",
       "2               ARIZONA                         6                   3677985   \n",
       "3              ARKANSAS                         4                   2362239   \n",
       "4            CALIFORNIA                        52                  29839250   \n",
       "5              COLORADO                         6                   3307912   \n",
       "6           CONNECTICUT                         6                   3295669   \n",
       "7              DELAWARE                         1                    668696   \n",
       "8  DISTRICT OF COLUMBIA                         0                         0   \n",
       "9               FLORIDA                        23                  13003362   \n",
       "\n",
       "   RESIDENT POPULATION  UNITED STATES POPULATION ABROAD  \\\n",
       "0              4040587                            22021   \n",
       "1               550043                             1904   \n",
       "2              3665228                            12757   \n",
       "3              2350725                            11514   \n",
       "4             29760021                            79229   \n",
       "5              3294394                            13518   \n",
       "6              3287116                             8553   \n",
       "7               666168                             2528   \n",
       "8               606900                             3009   \n",
       "9             12937926                            65436   \n",
       "\n",
       "   TOTAL ELECTORAL VOTES  NUMBER OF CITIZENS PER ELECTORAL VOTE  \n",
       "0                      9                                 451400  \n",
       "1                      3                                 183982  \n",
       "2                      8                                 459748  \n",
       "3                      6                                 393706  \n",
       "4                     54                                 552578  \n",
       "5                      8                                 413489  \n",
       "6                      8                                 411958  \n",
       "7                      3                                 222898  \n",
       "8                      3                                 203303  \n",
       "9                     25                                 520134  "
      ]
     },
     "execution_count": 255,
     "metadata": {},
     "output_type": "execute_result"
    }
   ],
   "source": [
    "ca1990.head(10)"
   ]
  },
  {
   "cell_type": "code",
   "execution_count": 256,
   "metadata": {
    "collapsed": false
   },
   "outputs": [],
   "source": [
    "total_res = dc[3] + dc[4]"
   ]
  },
  {
   "cell_type": "code",
   "execution_count": 257,
   "metadata": {
    "collapsed": false
   },
   "outputs": [
    {
     "data": {
      "text/plain": [
       "0"
      ]
     },
     "execution_count": 257,
     "metadata": {},
     "output_type": "execute_result"
    }
   ],
   "source": [
    "dc[2]"
   ]
  },
  {
   "cell_type": "code",
   "execution_count": 258,
   "metadata": {
    "collapsed": false
   },
   "outputs": [],
   "source": [
    "ca1990.to_csv('1990_apportionment_cleaned.tsv', sep = '\\t', index=False)"
   ]
  },
  {
   "cell_type": "code",
   "execution_count": 241,
   "metadata": {
    "collapsed": false
   },
   "outputs": [
    {
     "data": {
      "text/plain": [
       "<matplotlib.axes._subplots.AxesSubplot at 0x1152df710>"
      ]
     },
     "execution_count": 241,
     "metadata": {},
     "output_type": "execute_result"
    }
   ],
   "source": []
  },
  {
   "cell_type": "code",
   "execution_count": 3,
   "metadata": {
    "collapsed": false
   },
   "outputs": [],
   "source": [
    "# 2000 data\n",
    "import csv\n",
    "with open('2000_apportionment_raw.txt', newline='') as csvfile:\n",
    "    reader = csv.reader(csvfile, delimiter='\\t', quotechar='|')\n",
    "    #for row in reader:\n",
    "    #   print(row)\n",
    "    f = [x for x in reader]"
   ]
  },
  {
   "cell_type": "code",
   "execution_count": 5,
   "metadata": {
    "collapsed": false
   },
   "outputs": [
    {
     "data": {
      "text/plain": [
       "[['\"Table 1.  Apportionment Population and Number of Representatives, by State:  Census 2000\"',\n",
       "  '',\n",
       "  '',\n",
       "  '',\n",
       "  '',\n",
       "  ''],\n",
       " [' ', '', '', '', '', ''],\n",
       " [' State',\n",
       "  'Apportionment Population',\n",
       "  'Number of Apportioned Representatives Based on Census 2000',\n",
       "  'Change From 1990 Census Apportionment',\n",
       "  '',\n",
       "  ''],\n",
       " ['', '', '', '', '', ''],\n",
       " ['', '', '', '', '', '']]"
      ]
     },
     "execution_count": 5,
     "metadata": {},
     "output_type": "execute_result"
    }
   ],
   "source": [
    "f[:5]"
   ]
  },
  {
   "cell_type": "code",
   "execution_count": 6,
   "metadata": {
    "collapsed": false
   },
   "outputs": [
    {
     "data": {
      "text/plain": [
       "['    Alabama', '\"4,461,130\"', '7', '0', '', '']"
      ]
     },
     "execution_count": 6,
     "metadata": {},
     "output_type": "execute_result"
    }
   ],
   "source": [
    "f[6]"
   ]
  },
  {
   "cell_type": "code",
   "execution_count": 8,
   "metadata": {
    "collapsed": false
   },
   "outputs": [
    {
     "data": {
      "text/plain": [
       "['State',\n",
       " 'Apportionment Population',\n",
       " 'Number of Apportioned Representatives Based on Census 2000',\n",
       " 'Change From 1990 Census Apportionment',\n",
       " '',\n",
       " '']"
      ]
     },
     "execution_count": 8,
     "metadata": {},
     "output_type": "execute_result"
    }
   ],
   "source": [
    "header_names = [(f[2][x].strip() + ' '+ f[3][x].strip()).strip() for x in range(len(f[2]))]\n",
    "header_names"
   ]
  },
  {
   "cell_type": "code",
   "execution_count": 12,
   "metadata": {
    "collapsed": false
   },
   "outputs": [
    {
     "data": {
      "text/plain": [
       "68"
      ]
     },
     "execution_count": 12,
     "metadata": {},
     "output_type": "execute_result"
    }
   ],
   "source": [
    "import re\n",
    "fxn = lambda x: re.sub(r'[^\\x00-\\x7f]',r'',x).strip('.').strip('\"').upper()\n",
    "g = []\n",
    "with open('2000_apportionment_raw.txt', newline='') as csvfile:\n",
    "    reader = csv.reader(csvfile, delimiter='\\t', quotechar='|')\n",
    "    for row in reader:\n",
    "        g.append([fxn(x) for x in row[:4]])\n",
    "    \n",
    "        \n",
    "len(g)"
   ]
  },
  {
   "cell_type": "code",
   "execution_count": 14,
   "metadata": {
    "collapsed": false
   },
   "outputs": [
    {
     "data": {
      "text/plain": [
       "[['TABLE 1.  APPORTIONMENT POPULATION AND NUMBER OF REPRESENTATIVES, BY STATE:  CENSUS 2000',\n",
       "  '',\n",
       "  '',\n",
       "  ''],\n",
       " [' ', '', '', ''],\n",
       " [' STATE',\n",
       "  'APPORTIONMENT POPULATION',\n",
       "  'NUMBER OF APPORTIONED REPRESENTATIVES BASED ON CENSUS 2000',\n",
       "  'CHANGE FROM 1990 CENSUS APPORTIONMENT'],\n",
       " ['', '', '', ''],\n",
       " ['', '', '', ''],\n",
       " ['', '', '', ''],\n",
       " ['    ALABAMA', '4,461,130', '7', '0'],\n",
       " ['    ALASKA', '628,933', '1', '0'],\n",
       " ['    ARIZONA', '5,140,683', '8', '+2'],\n",
       " ['    ARKANSAS', '2,679,733', '4', '0']]"
      ]
     },
     "execution_count": 14,
     "metadata": {},
     "output_type": "execute_result"
    }
   ],
   "source": [
    "g[:10\n",
    "]"
   ]
  },
  {
   "cell_type": "code",
   "execution_count": 15,
   "metadata": {
    "collapsed": true
   },
   "outputs": [],
   "source": [
    "header_names = [(g[2][x].strip() + ' '+ g[3][x].strip()).strip() for x in range(len(g[2]))]"
   ]
  },
  {
   "cell_type": "code",
   "execution_count": 16,
   "metadata": {
    "collapsed": false
   },
   "outputs": [
    {
     "data": {
      "text/plain": [
       "['STATE',\n",
       " 'APPORTIONMENT POPULATION',\n",
       " 'NUMBER OF APPORTIONED REPRESENTATIVES BASED ON CENSUS 2000',\n",
       " 'CHANGE FROM 1990 CENSUS APPORTIONMENT']"
      ]
     },
     "execution_count": 16,
     "metadata": {},
     "output_type": "execute_result"
    }
   ],
   "source": [
    "header_names"
   ]
  },
  {
   "cell_type": "code",
   "execution_count": 26,
   "metadata": {
    "collapsed": false
   },
   "outputs": [],
   "source": [
    "ca2000 = pd.DataFrame(g[6:56], columns=header_names) "
   ]
  },
  {
   "cell_type": "code",
   "execution_count": 27,
   "metadata": {
    "collapsed": false
   },
   "outputs": [
    {
     "data": {
      "text/html": [
       "<div>\n",
       "<table border=\"1\" class=\"dataframe\">\n",
       "  <thead>\n",
       "    <tr style=\"text-align: right;\">\n",
       "      <th></th>\n",
       "      <th>STATE</th>\n",
       "      <th>APPORTIONMENT POPULATION</th>\n",
       "      <th>NUMBER OF APPORTIONED REPRESENTATIVES BASED ON CENSUS 2000</th>\n",
       "      <th>CHANGE FROM 1990 CENSUS APPORTIONMENT</th>\n",
       "    </tr>\n",
       "  </thead>\n",
       "  <tbody>\n",
       "    <tr>\n",
       "      <th>45</th>\n",
       "      <td>VIRGINIA</td>\n",
       "      <td>7,100,702</td>\n",
       "      <td>11</td>\n",
       "      <td>0</td>\n",
       "    </tr>\n",
       "    <tr>\n",
       "      <th>46</th>\n",
       "      <td>WASHINGTON</td>\n",
       "      <td>5,908,684</td>\n",
       "      <td>9</td>\n",
       "      <td>0</td>\n",
       "    </tr>\n",
       "    <tr>\n",
       "      <th>47</th>\n",
       "      <td>WEST VIRGINIA</td>\n",
       "      <td>1,813,077</td>\n",
       "      <td>3</td>\n",
       "      <td>0</td>\n",
       "    </tr>\n",
       "    <tr>\n",
       "      <th>48</th>\n",
       "      <td>WISCONSIN</td>\n",
       "      <td>5,371,210</td>\n",
       "      <td>8</td>\n",
       "      <td>-1</td>\n",
       "    </tr>\n",
       "    <tr>\n",
       "      <th>49</th>\n",
       "      <td>WYOMING</td>\n",
       "      <td>495,304</td>\n",
       "      <td>1</td>\n",
       "      <td>0</td>\n",
       "    </tr>\n",
       "  </tbody>\n",
       "</table>\n",
       "</div>"
      ],
      "text/plain": [
       "                STATE APPORTIONMENT POPULATION  \\\n",
       "45           VIRGINIA                7,100,702   \n",
       "46         WASHINGTON                5,908,684   \n",
       "47      WEST VIRGINIA                1,813,077   \n",
       "48          WISCONSIN                5,371,210   \n",
       "49            WYOMING                  495,304   \n",
       "\n",
       "   NUMBER OF APPORTIONED REPRESENTATIVES BASED ON CENSUS 2000  \\\n",
       "45                                                 11           \n",
       "46                                                  9           \n",
       "47                                                  3           \n",
       "48                                                  8           \n",
       "49                                                  1           \n",
       "\n",
       "   CHANGE FROM 1990 CENSUS APPORTIONMENT  \n",
       "45                                     0  \n",
       "46                                     0  \n",
       "47                                     0  \n",
       "48                                    -1  \n",
       "49                                     0  "
      ]
     },
     "execution_count": 27,
     "metadata": {},
     "output_type": "execute_result"
    }
   ],
   "source": [
    "ca2000.tail()"
   ]
  },
  {
   "cell_type": "code",
   "execution_count": 28,
   "metadata": {
    "collapsed": false
   },
   "outputs": [
    {
     "data": {
      "text/html": [
       "<div>\n",
       "<table border=\"1\" class=\"dataframe\">\n",
       "  <thead>\n",
       "    <tr style=\"text-align: right;\">\n",
       "      <th></th>\n",
       "      <th>STATE</th>\n",
       "      <th>APPORTIONMENT POPULATION</th>\n",
       "      <th>NUMBER OF APPORTIONED REPRESENTATIVES BASED ON CENSUS 2000</th>\n",
       "      <th>CHANGE FROM 1990 CENSUS APPORTIONMENT</th>\n",
       "    </tr>\n",
       "  </thead>\n",
       "  <tbody>\n",
       "    <tr>\n",
       "      <th>0</th>\n",
       "      <td>ALABAMA</td>\n",
       "      <td>4,461,130</td>\n",
       "      <td>7</td>\n",
       "      <td>0</td>\n",
       "    </tr>\n",
       "    <tr>\n",
       "      <th>1</th>\n",
       "      <td>ALASKA</td>\n",
       "      <td>628,933</td>\n",
       "      <td>1</td>\n",
       "      <td>0</td>\n",
       "    </tr>\n",
       "    <tr>\n",
       "      <th>2</th>\n",
       "      <td>ARIZONA</td>\n",
       "      <td>5,140,683</td>\n",
       "      <td>8</td>\n",
       "      <td>+2</td>\n",
       "    </tr>\n",
       "    <tr>\n",
       "      <th>3</th>\n",
       "      <td>ARKANSAS</td>\n",
       "      <td>2,679,733</td>\n",
       "      <td>4</td>\n",
       "      <td>0</td>\n",
       "    </tr>\n",
       "    <tr>\n",
       "      <th>4</th>\n",
       "      <td>CALIFORNIA</td>\n",
       "      <td>33,930,798</td>\n",
       "      <td>53</td>\n",
       "      <td>+1</td>\n",
       "    </tr>\n",
       "    <tr>\n",
       "      <th>5</th>\n",
       "      <td>COLORADO</td>\n",
       "      <td>4,311,882</td>\n",
       "      <td>7</td>\n",
       "      <td>+1</td>\n",
       "    </tr>\n",
       "    <tr>\n",
       "      <th>6</th>\n",
       "      <td>CONNECTICUT</td>\n",
       "      <td>3,409,535</td>\n",
       "      <td>5</td>\n",
       "      <td>-1</td>\n",
       "    </tr>\n",
       "    <tr>\n",
       "      <th>7</th>\n",
       "      <td>DELAWARE</td>\n",
       "      <td>785,068</td>\n",
       "      <td>1</td>\n",
       "      <td>0</td>\n",
       "    </tr>\n",
       "    <tr>\n",
       "      <th>8</th>\n",
       "      <td>FLORIDA</td>\n",
       "      <td>16,028,890</td>\n",
       "      <td>25</td>\n",
       "      <td>+2</td>\n",
       "    </tr>\n",
       "    <tr>\n",
       "      <th>9</th>\n",
       "      <td>GEORGIA</td>\n",
       "      <td>8,206,975</td>\n",
       "      <td>13</td>\n",
       "      <td>+2</td>\n",
       "    </tr>\n",
       "  </tbody>\n",
       "</table>\n",
       "</div>"
      ],
      "text/plain": [
       "             STATE APPORTIONMENT POPULATION  \\\n",
       "0          ALABAMA                4,461,130   \n",
       "1           ALASKA                  628,933   \n",
       "2          ARIZONA                5,140,683   \n",
       "3         ARKANSAS                2,679,733   \n",
       "4       CALIFORNIA               33,930,798   \n",
       "5         COLORADO                4,311,882   \n",
       "6      CONNECTICUT                3,409,535   \n",
       "7         DELAWARE                  785,068   \n",
       "8          FLORIDA               16,028,890   \n",
       "9          GEORGIA                8,206,975   \n",
       "\n",
       "  NUMBER OF APPORTIONED REPRESENTATIVES BASED ON CENSUS 2000  \\\n",
       "0                                                  7           \n",
       "1                                                  1           \n",
       "2                                                  8           \n",
       "3                                                  4           \n",
       "4                                                 53           \n",
       "5                                                  7           \n",
       "6                                                  5           \n",
       "7                                                  1           \n",
       "8                                                 25           \n",
       "9                                                 13           \n",
       "\n",
       "  CHANGE FROM 1990 CENSUS APPORTIONMENT  \n",
       "0                                     0  \n",
       "1                                     0  \n",
       "2                                    +2  \n",
       "3                                     0  \n",
       "4                                    +1  \n",
       "5                                    +1  \n",
       "6                                    -1  \n",
       "7                                     0  \n",
       "8                                    +2  \n",
       "9                                    +2  "
      ]
     },
     "execution_count": 28,
     "metadata": {},
     "output_type": "execute_result"
    }
   ],
   "source": [
    "ca2000.head(10)"
   ]
  },
  {
   "cell_type": "code",
   "execution_count": 29,
   "metadata": {
    "collapsed": false
   },
   "outputs": [
    {
     "data": {
      "text/plain": [
       "str"
      ]
     },
     "execution_count": 29,
     "metadata": {},
     "output_type": "execute_result"
    }
   ],
   "source": [
    "type(ca2000['NUMBER OF APPORTIONED REPRESENTATIVES BASED ON CENSUS 2000'][5])"
   ]
  },
  {
   "cell_type": "code",
   "execution_count": 30,
   "metadata": {
    "collapsed": true
   },
   "outputs": [],
   "source": [
    "ca2000['NUMBER OF APPORTIONED REPRESENTATIVES BASED ON CENSUS 2000'] = ca2000['NUMBER OF APPORTIONED REPRESENTATIVES BASED ON CENSUS 2000'].map(lambda x: int(x))"
   ]
  },
  {
   "cell_type": "code",
   "execution_count": 31,
   "metadata": {
    "collapsed": false
   },
   "outputs": [
    {
     "data": {
      "text/plain": [
       "numpy.int64"
      ]
     },
     "execution_count": 31,
     "metadata": {},
     "output_type": "execute_result"
    }
   ],
   "source": [
    "type(ca2000['NUMBER OF APPORTIONED REPRESENTATIVES BASED ON CENSUS 2000'][5])"
   ]
  },
  {
   "cell_type": "code",
   "execution_count": 32,
   "metadata": {
    "collapsed": false
   },
   "outputs": [
    {
     "data": {
      "text/html": [
       "<div>\n",
       "<table border=\"1\" class=\"dataframe\">\n",
       "  <thead>\n",
       "    <tr style=\"text-align: right;\">\n",
       "      <th></th>\n",
       "      <th>STATE</th>\n",
       "      <th>APPORTIONMENT POPULATION</th>\n",
       "      <th>NUMBER OF APPORTIONED REPRESENTATIVES BASED ON CENSUS 2000</th>\n",
       "      <th>CHANGE FROM 1990 CENSUS APPORTIONMENT</th>\n",
       "    </tr>\n",
       "  </thead>\n",
       "  <tbody>\n",
       "    <tr>\n",
       "      <th>0</th>\n",
       "      <td>ALABAMA</td>\n",
       "      <td>4,461,130</td>\n",
       "      <td>7</td>\n",
       "      <td>0</td>\n",
       "    </tr>\n",
       "    <tr>\n",
       "      <th>1</th>\n",
       "      <td>ALASKA</td>\n",
       "      <td>628,933</td>\n",
       "      <td>1</td>\n",
       "      <td>0</td>\n",
       "    </tr>\n",
       "    <tr>\n",
       "      <th>2</th>\n",
       "      <td>ARIZONA</td>\n",
       "      <td>5,140,683</td>\n",
       "      <td>8</td>\n",
       "      <td>+2</td>\n",
       "    </tr>\n",
       "    <tr>\n",
       "      <th>3</th>\n",
       "      <td>ARKANSAS</td>\n",
       "      <td>2,679,733</td>\n",
       "      <td>4</td>\n",
       "      <td>0</td>\n",
       "    </tr>\n",
       "    <tr>\n",
       "      <th>4</th>\n",
       "      <td>CALIFORNIA</td>\n",
       "      <td>33,930,798</td>\n",
       "      <td>53</td>\n",
       "      <td>+1</td>\n",
       "    </tr>\n",
       "    <tr>\n",
       "      <th>5</th>\n",
       "      <td>COLORADO</td>\n",
       "      <td>4,311,882</td>\n",
       "      <td>7</td>\n",
       "      <td>+1</td>\n",
       "    </tr>\n",
       "    <tr>\n",
       "      <th>6</th>\n",
       "      <td>CONNECTICUT</td>\n",
       "      <td>3,409,535</td>\n",
       "      <td>5</td>\n",
       "      <td>-1</td>\n",
       "    </tr>\n",
       "    <tr>\n",
       "      <th>7</th>\n",
       "      <td>DELAWARE</td>\n",
       "      <td>785,068</td>\n",
       "      <td>1</td>\n",
       "      <td>0</td>\n",
       "    </tr>\n",
       "    <tr>\n",
       "      <th>8</th>\n",
       "      <td>FLORIDA</td>\n",
       "      <td>16,028,890</td>\n",
       "      <td>25</td>\n",
       "      <td>+2</td>\n",
       "    </tr>\n",
       "    <tr>\n",
       "      <th>9</th>\n",
       "      <td>GEORGIA</td>\n",
       "      <td>8,206,975</td>\n",
       "      <td>13</td>\n",
       "      <td>+2</td>\n",
       "    </tr>\n",
       "  </tbody>\n",
       "</table>\n",
       "</div>"
      ],
      "text/plain": [
       "             STATE APPORTIONMENT POPULATION  \\\n",
       "0          ALABAMA                4,461,130   \n",
       "1           ALASKA                  628,933   \n",
       "2          ARIZONA                5,140,683   \n",
       "3         ARKANSAS                2,679,733   \n",
       "4       CALIFORNIA               33,930,798   \n",
       "5         COLORADO                4,311,882   \n",
       "6      CONNECTICUT                3,409,535   \n",
       "7         DELAWARE                  785,068   \n",
       "8          FLORIDA               16,028,890   \n",
       "9          GEORGIA                8,206,975   \n",
       "\n",
       "   NUMBER OF APPORTIONED REPRESENTATIVES BASED ON CENSUS 2000  \\\n",
       "0                                                  7            \n",
       "1                                                  1            \n",
       "2                                                  8            \n",
       "3                                                  4            \n",
       "4                                                 53            \n",
       "5                                                  7            \n",
       "6                                                  5            \n",
       "7                                                  1            \n",
       "8                                                 25            \n",
       "9                                                 13            \n",
       "\n",
       "  CHANGE FROM 1990 CENSUS APPORTIONMENT  \n",
       "0                                     0  \n",
       "1                                     0  \n",
       "2                                    +2  \n",
       "3                                     0  \n",
       "4                                    +1  \n",
       "5                                    +1  \n",
       "6                                    -1  \n",
       "7                                     0  \n",
       "8                                    +2  \n",
       "9                                    +2  "
      ]
     },
     "execution_count": 32,
     "metadata": {},
     "output_type": "execute_result"
    }
   ],
   "source": [
    "ca2000.head(10)"
   ]
  },
  {
   "cell_type": "code",
   "execution_count": 33,
   "metadata": {
    "collapsed": true
   },
   "outputs": [],
   "source": [
    "ca2000['APPORTIONMENT POPULATION'] = ca2000['APPORTIONMENT POPULATION'].map(\n",
    "        lambda x: int(x.replace(',','')) if x != '' else 0)"
   ]
  },
  {
   "cell_type": "code",
   "execution_count": 34,
   "metadata": {
    "collapsed": false
   },
   "outputs": [
    {
     "data": {
      "text/html": [
       "<div>\n",
       "<table border=\"1\" class=\"dataframe\">\n",
       "  <thead>\n",
       "    <tr style=\"text-align: right;\">\n",
       "      <th></th>\n",
       "      <th>STATE</th>\n",
       "      <th>APPORTIONMENT POPULATION</th>\n",
       "      <th>NUMBER OF APPORTIONED REPRESENTATIVES BASED ON CENSUS 2000</th>\n",
       "      <th>CHANGE FROM 1990 CENSUS APPORTIONMENT</th>\n",
       "    </tr>\n",
       "  </thead>\n",
       "  <tbody>\n",
       "    <tr>\n",
       "      <th>0</th>\n",
       "      <td>ALABAMA</td>\n",
       "      <td>4461130</td>\n",
       "      <td>7</td>\n",
       "      <td>0</td>\n",
       "    </tr>\n",
       "    <tr>\n",
       "      <th>1</th>\n",
       "      <td>ALASKA</td>\n",
       "      <td>628933</td>\n",
       "      <td>1</td>\n",
       "      <td>0</td>\n",
       "    </tr>\n",
       "    <tr>\n",
       "      <th>2</th>\n",
       "      <td>ARIZONA</td>\n",
       "      <td>5140683</td>\n",
       "      <td>8</td>\n",
       "      <td>+2</td>\n",
       "    </tr>\n",
       "    <tr>\n",
       "      <th>3</th>\n",
       "      <td>ARKANSAS</td>\n",
       "      <td>2679733</td>\n",
       "      <td>4</td>\n",
       "      <td>0</td>\n",
       "    </tr>\n",
       "    <tr>\n",
       "      <th>4</th>\n",
       "      <td>CALIFORNIA</td>\n",
       "      <td>33930798</td>\n",
       "      <td>53</td>\n",
       "      <td>+1</td>\n",
       "    </tr>\n",
       "    <tr>\n",
       "      <th>5</th>\n",
       "      <td>COLORADO</td>\n",
       "      <td>4311882</td>\n",
       "      <td>7</td>\n",
       "      <td>+1</td>\n",
       "    </tr>\n",
       "    <tr>\n",
       "      <th>6</th>\n",
       "      <td>CONNECTICUT</td>\n",
       "      <td>3409535</td>\n",
       "      <td>5</td>\n",
       "      <td>-1</td>\n",
       "    </tr>\n",
       "    <tr>\n",
       "      <th>7</th>\n",
       "      <td>DELAWARE</td>\n",
       "      <td>785068</td>\n",
       "      <td>1</td>\n",
       "      <td>0</td>\n",
       "    </tr>\n",
       "    <tr>\n",
       "      <th>8</th>\n",
       "      <td>FLORIDA</td>\n",
       "      <td>16028890</td>\n",
       "      <td>25</td>\n",
       "      <td>+2</td>\n",
       "    </tr>\n",
       "    <tr>\n",
       "      <th>9</th>\n",
       "      <td>GEORGIA</td>\n",
       "      <td>8206975</td>\n",
       "      <td>13</td>\n",
       "      <td>+2</td>\n",
       "    </tr>\n",
       "  </tbody>\n",
       "</table>\n",
       "</div>"
      ],
      "text/plain": [
       "             STATE  APPORTIONMENT POPULATION  \\\n",
       "0          ALABAMA                   4461130   \n",
       "1           ALASKA                    628933   \n",
       "2          ARIZONA                   5140683   \n",
       "3         ARKANSAS                   2679733   \n",
       "4       CALIFORNIA                  33930798   \n",
       "5         COLORADO                   4311882   \n",
       "6      CONNECTICUT                   3409535   \n",
       "7         DELAWARE                    785068   \n",
       "8          FLORIDA                  16028890   \n",
       "9          GEORGIA                   8206975   \n",
       "\n",
       "   NUMBER OF APPORTIONED REPRESENTATIVES BASED ON CENSUS 2000  \\\n",
       "0                                                  7            \n",
       "1                                                  1            \n",
       "2                                                  8            \n",
       "3                                                  4            \n",
       "4                                                 53            \n",
       "5                                                  7            \n",
       "6                                                  5            \n",
       "7                                                  1            \n",
       "8                                                 25            \n",
       "9                                                 13            \n",
       "\n",
       "  CHANGE FROM 1990 CENSUS APPORTIONMENT  \n",
       "0                                     0  \n",
       "1                                     0  \n",
       "2                                    +2  \n",
       "3                                     0  \n",
       "4                                    +1  \n",
       "5                                    +1  \n",
       "6                                    -1  \n",
       "7                                     0  \n",
       "8                                    +2  \n",
       "9                                    +2  "
      ]
     },
     "execution_count": 34,
     "metadata": {},
     "output_type": "execute_result"
    }
   ],
   "source": [
    "ca2000.head(10)"
   ]
  },
  {
   "cell_type": "code",
   "execution_count": 35,
   "metadata": {
    "collapsed": true
   },
   "outputs": [],
   "source": [
    "ca2000['TOTAL ELECTORAL VOTES'] = ca2000['NUMBER OF APPORTIONED REPRESENTATIVES BASED ON CENSUS 2000'] + 2"
   ]
  },
  {
   "cell_type": "code",
   "execution_count": 36,
   "metadata": {
    "collapsed": false
   },
   "outputs": [
    {
     "data": {
      "text/html": [
       "<div>\n",
       "<table border=\"1\" class=\"dataframe\">\n",
       "  <thead>\n",
       "    <tr style=\"text-align: right;\">\n",
       "      <th></th>\n",
       "      <th>STATE</th>\n",
       "      <th>APPORTIONMENT POPULATION</th>\n",
       "      <th>NUMBER OF APPORTIONED REPRESENTATIVES BASED ON CENSUS 2000</th>\n",
       "      <th>CHANGE FROM 1990 CENSUS APPORTIONMENT</th>\n",
       "      <th>TOTAL ELECTORAL VOTES</th>\n",
       "    </tr>\n",
       "  </thead>\n",
       "  <tbody>\n",
       "    <tr>\n",
       "      <th>0</th>\n",
       "      <td>ALABAMA</td>\n",
       "      <td>4461130</td>\n",
       "      <td>7</td>\n",
       "      <td>0</td>\n",
       "      <td>9</td>\n",
       "    </tr>\n",
       "    <tr>\n",
       "      <th>1</th>\n",
       "      <td>ALASKA</td>\n",
       "      <td>628933</td>\n",
       "      <td>1</td>\n",
       "      <td>0</td>\n",
       "      <td>3</td>\n",
       "    </tr>\n",
       "    <tr>\n",
       "      <th>2</th>\n",
       "      <td>ARIZONA</td>\n",
       "      <td>5140683</td>\n",
       "      <td>8</td>\n",
       "      <td>+2</td>\n",
       "      <td>10</td>\n",
       "    </tr>\n",
       "    <tr>\n",
       "      <th>3</th>\n",
       "      <td>ARKANSAS</td>\n",
       "      <td>2679733</td>\n",
       "      <td>4</td>\n",
       "      <td>0</td>\n",
       "      <td>6</td>\n",
       "    </tr>\n",
       "    <tr>\n",
       "      <th>4</th>\n",
       "      <td>CALIFORNIA</td>\n",
       "      <td>33930798</td>\n",
       "      <td>53</td>\n",
       "      <td>+1</td>\n",
       "      <td>55</td>\n",
       "    </tr>\n",
       "    <tr>\n",
       "      <th>5</th>\n",
       "      <td>COLORADO</td>\n",
       "      <td>4311882</td>\n",
       "      <td>7</td>\n",
       "      <td>+1</td>\n",
       "      <td>9</td>\n",
       "    </tr>\n",
       "    <tr>\n",
       "      <th>6</th>\n",
       "      <td>CONNECTICUT</td>\n",
       "      <td>3409535</td>\n",
       "      <td>5</td>\n",
       "      <td>-1</td>\n",
       "      <td>7</td>\n",
       "    </tr>\n",
       "    <tr>\n",
       "      <th>7</th>\n",
       "      <td>DELAWARE</td>\n",
       "      <td>785068</td>\n",
       "      <td>1</td>\n",
       "      <td>0</td>\n",
       "      <td>3</td>\n",
       "    </tr>\n",
       "    <tr>\n",
       "      <th>8</th>\n",
       "      <td>FLORIDA</td>\n",
       "      <td>16028890</td>\n",
       "      <td>25</td>\n",
       "      <td>+2</td>\n",
       "      <td>27</td>\n",
       "    </tr>\n",
       "    <tr>\n",
       "      <th>9</th>\n",
       "      <td>GEORGIA</td>\n",
       "      <td>8206975</td>\n",
       "      <td>13</td>\n",
       "      <td>+2</td>\n",
       "      <td>15</td>\n",
       "    </tr>\n",
       "  </tbody>\n",
       "</table>\n",
       "</div>"
      ],
      "text/plain": [
       "             STATE  APPORTIONMENT POPULATION  \\\n",
       "0          ALABAMA                   4461130   \n",
       "1           ALASKA                    628933   \n",
       "2          ARIZONA                   5140683   \n",
       "3         ARKANSAS                   2679733   \n",
       "4       CALIFORNIA                  33930798   \n",
       "5         COLORADO                   4311882   \n",
       "6      CONNECTICUT                   3409535   \n",
       "7         DELAWARE                    785068   \n",
       "8          FLORIDA                  16028890   \n",
       "9          GEORGIA                   8206975   \n",
       "\n",
       "   NUMBER OF APPORTIONED REPRESENTATIVES BASED ON CENSUS 2000  \\\n",
       "0                                                  7            \n",
       "1                                                  1            \n",
       "2                                                  8            \n",
       "3                                                  4            \n",
       "4                                                 53            \n",
       "5                                                  7            \n",
       "6                                                  5            \n",
       "7                                                  1            \n",
       "8                                                 25            \n",
       "9                                                 13            \n",
       "\n",
       "  CHANGE FROM 1990 CENSUS APPORTIONMENT  TOTAL ELECTORAL VOTES  \n",
       "0                                     0                      9  \n",
       "1                                     0                      3  \n",
       "2                                    +2                     10  \n",
       "3                                     0                      6  \n",
       "4                                    +1                     55  \n",
       "5                                    +1                      9  \n",
       "6                                    -1                      7  \n",
       "7                                     0                      3  \n",
       "8                                    +2                     27  \n",
       "9                                    +2                     15  "
      ]
     },
     "execution_count": 36,
     "metadata": {},
     "output_type": "execute_result"
    }
   ],
   "source": [
    "ca2000.head(10)"
   ]
  },
  {
   "cell_type": "code",
   "execution_count": 42,
   "metadata": {
    "collapsed": false
   },
   "outputs": [],
   "source": [
    "ca2000['NUMBER OF CITIZENS PER ELECTORAL VOTE'] =  ca2000['APPORTIONMENT POPULATION']/ca2000['TOTAL ELECTORAL VOTES']"
   ]
  },
  {
   "cell_type": "code",
   "execution_count": 44,
   "metadata": {
    "collapsed": false
   },
   "outputs": [],
   "source": [
    "ca2000['NUMBER OF CITIZENS PER ELECTORAL VOTE'] = ca2000['NUMBER OF CITIZENS PER ELECTORAL VOTE'].map(lambda x: int(x))"
   ]
  },
  {
   "cell_type": "code",
   "execution_count": 45,
   "metadata": {
    "collapsed": false
   },
   "outputs": [
    {
     "data": {
      "text/html": [
       "<div>\n",
       "<table border=\"1\" class=\"dataframe\">\n",
       "  <thead>\n",
       "    <tr style=\"text-align: right;\">\n",
       "      <th></th>\n",
       "      <th>STATE</th>\n",
       "      <th>APPORTIONMENT POPULATION</th>\n",
       "      <th>NUMBER OF APPORTIONED REPRESENTATIVES BASED ON CENSUS 2000</th>\n",
       "      <th>CHANGE FROM 1990 CENSUS APPORTIONMENT</th>\n",
       "      <th>TOTAL ELECTORAL VOTES</th>\n",
       "      <th>NUMBER OF CITIZENS PER ELECTORAL VOTE</th>\n",
       "    </tr>\n",
       "  </thead>\n",
       "  <tbody>\n",
       "    <tr>\n",
       "      <th>0</th>\n",
       "      <td>ALABAMA</td>\n",
       "      <td>4461130</td>\n",
       "      <td>7</td>\n",
       "      <td>0</td>\n",
       "      <td>9</td>\n",
       "      <td>495681</td>\n",
       "    </tr>\n",
       "    <tr>\n",
       "      <th>1</th>\n",
       "      <td>ALASKA</td>\n",
       "      <td>628933</td>\n",
       "      <td>1</td>\n",
       "      <td>0</td>\n",
       "      <td>3</td>\n",
       "      <td>209644</td>\n",
       "    </tr>\n",
       "    <tr>\n",
       "      <th>2</th>\n",
       "      <td>ARIZONA</td>\n",
       "      <td>5140683</td>\n",
       "      <td>8</td>\n",
       "      <td>+2</td>\n",
       "      <td>10</td>\n",
       "      <td>514068</td>\n",
       "    </tr>\n",
       "    <tr>\n",
       "      <th>3</th>\n",
       "      <td>ARKANSAS</td>\n",
       "      <td>2679733</td>\n",
       "      <td>4</td>\n",
       "      <td>0</td>\n",
       "      <td>6</td>\n",
       "      <td>446622</td>\n",
       "    </tr>\n",
       "    <tr>\n",
       "      <th>4</th>\n",
       "      <td>CALIFORNIA</td>\n",
       "      <td>33930798</td>\n",
       "      <td>53</td>\n",
       "      <td>+1</td>\n",
       "      <td>55</td>\n",
       "      <td>616923</td>\n",
       "    </tr>\n",
       "    <tr>\n",
       "      <th>5</th>\n",
       "      <td>COLORADO</td>\n",
       "      <td>4311882</td>\n",
       "      <td>7</td>\n",
       "      <td>+1</td>\n",
       "      <td>9</td>\n",
       "      <td>479098</td>\n",
       "    </tr>\n",
       "    <tr>\n",
       "      <th>6</th>\n",
       "      <td>CONNECTICUT</td>\n",
       "      <td>3409535</td>\n",
       "      <td>5</td>\n",
       "      <td>-1</td>\n",
       "      <td>7</td>\n",
       "      <td>487076</td>\n",
       "    </tr>\n",
       "    <tr>\n",
       "      <th>7</th>\n",
       "      <td>DELAWARE</td>\n",
       "      <td>785068</td>\n",
       "      <td>1</td>\n",
       "      <td>0</td>\n",
       "      <td>3</td>\n",
       "      <td>261689</td>\n",
       "    </tr>\n",
       "    <tr>\n",
       "      <th>8</th>\n",
       "      <td>FLORIDA</td>\n",
       "      <td>16028890</td>\n",
       "      <td>25</td>\n",
       "      <td>+2</td>\n",
       "      <td>27</td>\n",
       "      <td>593662</td>\n",
       "    </tr>\n",
       "    <tr>\n",
       "      <th>9</th>\n",
       "      <td>GEORGIA</td>\n",
       "      <td>8206975</td>\n",
       "      <td>13</td>\n",
       "      <td>+2</td>\n",
       "      <td>15</td>\n",
       "      <td>547131</td>\n",
       "    </tr>\n",
       "  </tbody>\n",
       "</table>\n",
       "</div>"
      ],
      "text/plain": [
       "             STATE  APPORTIONMENT POPULATION  \\\n",
       "0          ALABAMA                   4461130   \n",
       "1           ALASKA                    628933   \n",
       "2          ARIZONA                   5140683   \n",
       "3         ARKANSAS                   2679733   \n",
       "4       CALIFORNIA                  33930798   \n",
       "5         COLORADO                   4311882   \n",
       "6      CONNECTICUT                   3409535   \n",
       "7         DELAWARE                    785068   \n",
       "8          FLORIDA                  16028890   \n",
       "9          GEORGIA                   8206975   \n",
       "\n",
       "   NUMBER OF APPORTIONED REPRESENTATIVES BASED ON CENSUS 2000  \\\n",
       "0                                                  7            \n",
       "1                                                  1            \n",
       "2                                                  8            \n",
       "3                                                  4            \n",
       "4                                                 53            \n",
       "5                                                  7            \n",
       "6                                                  5            \n",
       "7                                                  1            \n",
       "8                                                 25            \n",
       "9                                                 13            \n",
       "\n",
       "  CHANGE FROM 1990 CENSUS APPORTIONMENT  TOTAL ELECTORAL VOTES  \\\n",
       "0                                     0                      9   \n",
       "1                                     0                      3   \n",
       "2                                    +2                     10   \n",
       "3                                     0                      6   \n",
       "4                                    +1                     55   \n",
       "5                                    +1                      9   \n",
       "6                                    -1                      7   \n",
       "7                                     0                      3   \n",
       "8                                    +2                     27   \n",
       "9                                    +2                     15   \n",
       "\n",
       "   NUMBER OF CITIZENS PER ELECTORAL VOTE  \n",
       "0                                 495681  \n",
       "1                                 209644  \n",
       "2                                 514068  \n",
       "3                                 446622  \n",
       "4                                 616923  \n",
       "5                                 479098  \n",
       "6                                 487076  \n",
       "7                                 261689  \n",
       "8                                 593662  \n",
       "9                                 547131  "
      ]
     },
     "execution_count": 45,
     "metadata": {},
     "output_type": "execute_result"
    }
   ],
   "source": [
    "ca2000.head(10)"
   ]
  },
  {
   "cell_type": "code",
   "execution_count": 46,
   "metadata": {
    "collapsed": true
   },
   "outputs": [],
   "source": [
    "ca2000.to_csv('2000_apportionment_cleaned.tsv', sep = '\\t', index=False)"
   ]
  },
  {
   "cell_type": "code",
   "execution_count": 47,
   "metadata": {
    "collapsed": true
   },
   "outputs": [],
   "source": [
    "c2_cleaned = pd.read_csv('2000_apportionment_cleaned.tsv', sep = '\\t')"
   ]
  },
  {
   "cell_type": "code",
   "execution_count": 49,
   "metadata": {
    "collapsed": false
   },
   "outputs": [
    {
     "data": {
      "text/html": [
       "<div>\n",
       "<table border=\"1\" class=\"dataframe\">\n",
       "  <thead>\n",
       "    <tr style=\"text-align: right;\">\n",
       "      <th></th>\n",
       "      <th>STATE</th>\n",
       "      <th>APPORTIONMENT POPULATION</th>\n",
       "      <th>NUMBER OF APPORTIONED REPRESENTATIVES BASED ON CENSUS 2000</th>\n",
       "      <th>CHANGE FROM 1990 CENSUS APPORTIONMENT</th>\n",
       "      <th>TOTAL ELECTORAL VOTES</th>\n",
       "      <th>NUMBER OF CITIZENS PER ELECTORAL VOTE</th>\n",
       "    </tr>\n",
       "  </thead>\n",
       "  <tbody>\n",
       "    <tr>\n",
       "      <th>0</th>\n",
       "      <td>ALABAMA</td>\n",
       "      <td>4461130</td>\n",
       "      <td>7</td>\n",
       "      <td>0</td>\n",
       "      <td>9</td>\n",
       "      <td>495681</td>\n",
       "    </tr>\n",
       "    <tr>\n",
       "      <th>1</th>\n",
       "      <td>ALASKA</td>\n",
       "      <td>628933</td>\n",
       "      <td>1</td>\n",
       "      <td>0</td>\n",
       "      <td>3</td>\n",
       "      <td>209644</td>\n",
       "    </tr>\n",
       "    <tr>\n",
       "      <th>2</th>\n",
       "      <td>ARIZONA</td>\n",
       "      <td>5140683</td>\n",
       "      <td>8</td>\n",
       "      <td>2</td>\n",
       "      <td>10</td>\n",
       "      <td>514068</td>\n",
       "    </tr>\n",
       "    <tr>\n",
       "      <th>3</th>\n",
       "      <td>ARKANSAS</td>\n",
       "      <td>2679733</td>\n",
       "      <td>4</td>\n",
       "      <td>0</td>\n",
       "      <td>6</td>\n",
       "      <td>446622</td>\n",
       "    </tr>\n",
       "    <tr>\n",
       "      <th>4</th>\n",
       "      <td>CALIFORNIA</td>\n",
       "      <td>33930798</td>\n",
       "      <td>53</td>\n",
       "      <td>1</td>\n",
       "      <td>55</td>\n",
       "      <td>616923</td>\n",
       "    </tr>\n",
       "    <tr>\n",
       "      <th>5</th>\n",
       "      <td>COLORADO</td>\n",
       "      <td>4311882</td>\n",
       "      <td>7</td>\n",
       "      <td>1</td>\n",
       "      <td>9</td>\n",
       "      <td>479098</td>\n",
       "    </tr>\n",
       "    <tr>\n",
       "      <th>6</th>\n",
       "      <td>CONNECTICUT</td>\n",
       "      <td>3409535</td>\n",
       "      <td>5</td>\n",
       "      <td>-1</td>\n",
       "      <td>7</td>\n",
       "      <td>487076</td>\n",
       "    </tr>\n",
       "    <tr>\n",
       "      <th>7</th>\n",
       "      <td>DELAWARE</td>\n",
       "      <td>785068</td>\n",
       "      <td>1</td>\n",
       "      <td>0</td>\n",
       "      <td>3</td>\n",
       "      <td>261689</td>\n",
       "    </tr>\n",
       "    <tr>\n",
       "      <th>8</th>\n",
       "      <td>FLORIDA</td>\n",
       "      <td>16028890</td>\n",
       "      <td>25</td>\n",
       "      <td>2</td>\n",
       "      <td>27</td>\n",
       "      <td>593662</td>\n",
       "    </tr>\n",
       "    <tr>\n",
       "      <th>9</th>\n",
       "      <td>GEORGIA</td>\n",
       "      <td>8206975</td>\n",
       "      <td>13</td>\n",
       "      <td>2</td>\n",
       "      <td>15</td>\n",
       "      <td>547131</td>\n",
       "    </tr>\n",
       "  </tbody>\n",
       "</table>\n",
       "</div>"
      ],
      "text/plain": [
       "             STATE  APPORTIONMENT POPULATION  \\\n",
       "0          ALABAMA                   4461130   \n",
       "1           ALASKA                    628933   \n",
       "2          ARIZONA                   5140683   \n",
       "3         ARKANSAS                   2679733   \n",
       "4       CALIFORNIA                  33930798   \n",
       "5         COLORADO                   4311882   \n",
       "6      CONNECTICUT                   3409535   \n",
       "7         DELAWARE                    785068   \n",
       "8          FLORIDA                  16028890   \n",
       "9          GEORGIA                   8206975   \n",
       "\n",
       "   NUMBER OF APPORTIONED REPRESENTATIVES BASED ON CENSUS 2000  \\\n",
       "0                                                  7            \n",
       "1                                                  1            \n",
       "2                                                  8            \n",
       "3                                                  4            \n",
       "4                                                 53            \n",
       "5                                                  7            \n",
       "6                                                  5            \n",
       "7                                                  1            \n",
       "8                                                 25            \n",
       "9                                                 13            \n",
       "\n",
       "   CHANGE FROM 1990 CENSUS APPORTIONMENT  TOTAL ELECTORAL VOTES  \\\n",
       "0                                      0                      9   \n",
       "1                                      0                      3   \n",
       "2                                      2                     10   \n",
       "3                                      0                      6   \n",
       "4                                      1                     55   \n",
       "5                                      1                      9   \n",
       "6                                     -1                      7   \n",
       "7                                      0                      3   \n",
       "8                                      2                     27   \n",
       "9                                      2                     15   \n",
       "\n",
       "   NUMBER OF CITIZENS PER ELECTORAL VOTE  \n",
       "0                                 495681  \n",
       "1                                 209644  \n",
       "2                                 514068  \n",
       "3                                 446622  \n",
       "4                                 616923  \n",
       "5                                 479098  \n",
       "6                                 487076  \n",
       "7                                 261689  \n",
       "8                                 593662  \n",
       "9                                 547131  "
      ]
     },
     "execution_count": 49,
     "metadata": {},
     "output_type": "execute_result"
    }
   ],
   "source": [
    "c2_cleaned.head(10)"
   ]
  },
  {
   "cell_type": "code",
   "execution_count": 77,
   "metadata": {
    "collapsed": false
   },
   "outputs": [
    {
     "data": {
      "text/plain": [
       "67"
      ]
     },
     "execution_count": 77,
     "metadata": {},
     "output_type": "execute_result"
    }
   ],
   "source": [
    "import re\n",
    "fxn = lambda x: re.sub(r'[^\\x00-\\x7f]',r'',x).strip('.').strip('\"').upper()\n",
    "g = []\n",
    "with open('2010_apportionment_raw.txt', newline='') as csvfile:\n",
    "    reader = csv.reader(csvfile, delimiter='\\t', quotechar='|')\n",
    "    for row in reader:\n",
    "        g.append([fxn(x) for x in row[:6]])\n",
    "    \n",
    "        \n",
    "len(g)"
   ]
  },
  {
   "cell_type": "code",
   "execution_count": 78,
   "metadata": {
    "collapsed": false
   },
   "outputs": [
    {
     "data": {
      "text/plain": [
       "[['U.S. DEPARTMENT OF COMMERCE', '', '', '', '', ''],\n",
       " ['U.S. CENSUS BUREAU', '', '', '', '', ''],\n",
       " ['', '', '', '', '', ''],\n",
       " ['TABLE 1. APPORTIONMENT POPULATION AND NUMBER OF REPRESENTATIVES, BY STATE:  2010 CENSUS',\n",
       "  '',\n",
       "  '',\n",
       "  '',\n",
       "  '',\n",
       "  ''],\n",
       " ['', '', '', '', '', ''],\n",
       " ['', '', '', 'NUMBER OF APPORTIONED', '', ''],\n",
       " ['', 'APPORTIONMENT', '', 'REPRESENTATIVES', '', 'CHANGE IN SEATS'],\n",
       " ['', 'POPULATION', '', 'BASED ON', '', 'FROM CENSUS 2000'],\n",
       " ['STATE', '(APRIL 1, 2010)', '', '2010 CENSUS', '', 'APPORTIONMENT'],\n",
       " ['', '', '', '', '', '']]"
      ]
     },
     "execution_count": 78,
     "metadata": {},
     "output_type": "execute_result"
    }
   ],
   "source": [
    "g[:10]"
   ]
  },
  {
   "cell_type": "code",
   "execution_count": 79,
   "metadata": {
    "collapsed": false
   },
   "outputs": [],
   "source": [
    "header_names = [(g[5][x] + ' '+ g[6][x].strip() + \n",
    "                ' '+ g[7][x].strip() + ' ' + g[8][x].strip()).strip() for x in range(len(g[5]))]\n"
   ]
  },
  {
   "cell_type": "code",
   "execution_count": 80,
   "metadata": {
    "collapsed": false
   },
   "outputs": [
    {
     "data": {
      "text/plain": [
       "['STATE',\n",
       " 'APPORTIONMENT POPULATION (APRIL 1, 2010)',\n",
       " '',\n",
       " 'NUMBER OF APPORTIONED REPRESENTATIVES BASED ON 2010 CENSUS',\n",
       " '',\n",
       " 'CHANGE IN SEATS FROM CENSUS 2000 APPORTIONMENT']"
      ]
     },
     "execution_count": 80,
     "metadata": {},
     "output_type": "execute_result"
    }
   ],
   "source": [
    "header_names"
   ]
  },
  {
   "cell_type": "code",
   "execution_count": 82,
   "metadata": {
    "collapsed": false
   },
   "outputs": [
    {
     "data": {
      "text/plain": [
       "['ALABAMA', '4,802,982', '', '7', '', '0']"
      ]
     },
     "execution_count": 82,
     "metadata": {},
     "output_type": "execute_result"
    }
   ],
   "source": [
    "g[11]"
   ]
  },
  {
   "cell_type": "code",
   "execution_count": 84,
   "metadata": {
    "collapsed": false
   },
   "outputs": [],
   "source": [
    "ca2010 = pd.DataFrame(g[11:11+50], columns=header_names) "
   ]
  },
  {
   "cell_type": "code",
   "execution_count": 87,
   "metadata": {
    "collapsed": false
   },
   "outputs": [
    {
     "data": {
      "text/html": [
       "<div>\n",
       "<table border=\"1\" class=\"dataframe\">\n",
       "  <thead>\n",
       "    <tr style=\"text-align: right;\">\n",
       "      <th></th>\n",
       "      <th>STATE</th>\n",
       "      <th>APPORTIONMENT POPULATION (APRIL 1, 2010)</th>\n",
       "      <th></th>\n",
       "      <th>NUMBER OF APPORTIONED REPRESENTATIVES BASED ON 2010 CENSUS</th>\n",
       "      <th></th>\n",
       "      <th>CHANGE IN SEATS FROM CENSUS 2000 APPORTIONMENT</th>\n",
       "    </tr>\n",
       "  </thead>\n",
       "  <tbody>\n",
       "    <tr>\n",
       "      <th>40</th>\n",
       "      <td>SOUTH DAKOTA</td>\n",
       "      <td>819,761</td>\n",
       "      <td></td>\n",
       "      <td>1</td>\n",
       "      <td></td>\n",
       "      <td>0</td>\n",
       "    </tr>\n",
       "    <tr>\n",
       "      <th>41</th>\n",
       "      <td>TENNESSEE</td>\n",
       "      <td>6,375,431</td>\n",
       "      <td></td>\n",
       "      <td>9</td>\n",
       "      <td></td>\n",
       "      <td>0</td>\n",
       "    </tr>\n",
       "    <tr>\n",
       "      <th>42</th>\n",
       "      <td>TEXAS</td>\n",
       "      <td>25,268,418</td>\n",
       "      <td></td>\n",
       "      <td>36</td>\n",
       "      <td></td>\n",
       "      <td>+4</td>\n",
       "    </tr>\n",
       "    <tr>\n",
       "      <th>43</th>\n",
       "      <td>UTAH</td>\n",
       "      <td>2,770,765</td>\n",
       "      <td></td>\n",
       "      <td>4</td>\n",
       "      <td></td>\n",
       "      <td>+1</td>\n",
       "    </tr>\n",
       "    <tr>\n",
       "      <th>44</th>\n",
       "      <td>VERMONT</td>\n",
       "      <td>630,337</td>\n",
       "      <td></td>\n",
       "      <td>1</td>\n",
       "      <td></td>\n",
       "      <td>0</td>\n",
       "    </tr>\n",
       "    <tr>\n",
       "      <th>45</th>\n",
       "      <td>VIRGINIA</td>\n",
       "      <td>8,037,736</td>\n",
       "      <td></td>\n",
       "      <td>11</td>\n",
       "      <td></td>\n",
       "      <td>0</td>\n",
       "    </tr>\n",
       "    <tr>\n",
       "      <th>46</th>\n",
       "      <td>WASHINGTON</td>\n",
       "      <td>6,753,369</td>\n",
       "      <td></td>\n",
       "      <td>10</td>\n",
       "      <td></td>\n",
       "      <td>+1</td>\n",
       "    </tr>\n",
       "    <tr>\n",
       "      <th>47</th>\n",
       "      <td>WEST VIRGINIA</td>\n",
       "      <td>1,859,815</td>\n",
       "      <td></td>\n",
       "      <td>3</td>\n",
       "      <td></td>\n",
       "      <td>0</td>\n",
       "    </tr>\n",
       "    <tr>\n",
       "      <th>48</th>\n",
       "      <td>WISCONSIN</td>\n",
       "      <td>5,698,230</td>\n",
       "      <td></td>\n",
       "      <td>8</td>\n",
       "      <td></td>\n",
       "      <td>0</td>\n",
       "    </tr>\n",
       "    <tr>\n",
       "      <th>49</th>\n",
       "      <td>WYOMING</td>\n",
       "      <td>568,300</td>\n",
       "      <td></td>\n",
       "      <td>1</td>\n",
       "      <td></td>\n",
       "      <td>0</td>\n",
       "    </tr>\n",
       "  </tbody>\n",
       "</table>\n",
       "</div>"
      ],
      "text/plain": [
       "            STATE APPORTIONMENT POPULATION (APRIL 1, 2010)    \\\n",
       "40   SOUTH DAKOTA                                  819,761     \n",
       "41      TENNESSEE                                6,375,431     \n",
       "42          TEXAS                               25,268,418     \n",
       "43           UTAH                                2,770,765     \n",
       "44        VERMONT                                  630,337     \n",
       "45       VIRGINIA                                8,037,736     \n",
       "46     WASHINGTON                                6,753,369     \n",
       "47  WEST VIRGINIA                                1,859,815     \n",
       "48      WISCONSIN                                5,698,230     \n",
       "49        WYOMING                                  568,300     \n",
       "\n",
       "   NUMBER OF APPORTIONED REPRESENTATIVES BASED ON 2010 CENSUS    \\\n",
       "40                                                  1             \n",
       "41                                                  9             \n",
       "42                                                 36             \n",
       "43                                                  4             \n",
       "44                                                  1             \n",
       "45                                                 11             \n",
       "46                                                 10             \n",
       "47                                                  3             \n",
       "48                                                  8             \n",
       "49                                                  1             \n",
       "\n",
       "   CHANGE IN SEATS FROM CENSUS 2000 APPORTIONMENT  \n",
       "40                                              0  \n",
       "41                                              0  \n",
       "42                                             +4  \n",
       "43                                             +1  \n",
       "44                                              0  \n",
       "45                                              0  \n",
       "46                                             +1  \n",
       "47                                              0  \n",
       "48                                              0  \n",
       "49                                              0  "
      ]
     },
     "execution_count": 87,
     "metadata": {},
     "output_type": "execute_result"
    }
   ],
   "source": [
    "ca2010.tail(10)"
   ]
  },
  {
   "cell_type": "code",
   "execution_count": 88,
   "metadata": {
    "collapsed": true
   },
   "outputs": [],
   "source": [
    "ca2010 = ca2010[['STATE', 'APPORTIONMENT POPULATION (APRIL 1, 2010)',\n",
    "                'NUMBER OF APPORTIONED REPRESENTATIVES BASED ON 2010 CENSUS', \n",
    "                'CHANGE IN SEATS FROM CENSUS 2000 APPORTIONMENT']]"
   ]
  },
  {
   "cell_type": "code",
   "execution_count": 89,
   "metadata": {
    "collapsed": false
   },
   "outputs": [
    {
     "data": {
      "text/html": [
       "<div>\n",
       "<table border=\"1\" class=\"dataframe\">\n",
       "  <thead>\n",
       "    <tr style=\"text-align: right;\">\n",
       "      <th></th>\n",
       "      <th>STATE</th>\n",
       "      <th>APPORTIONMENT POPULATION (APRIL 1, 2010)</th>\n",
       "      <th>NUMBER OF APPORTIONED REPRESENTATIVES BASED ON 2010 CENSUS</th>\n",
       "      <th>CHANGE IN SEATS FROM CENSUS 2000 APPORTIONMENT</th>\n",
       "    </tr>\n",
       "  </thead>\n",
       "  <tbody>\n",
       "    <tr>\n",
       "      <th>0</th>\n",
       "      <td>ALABAMA</td>\n",
       "      <td>4,802,982</td>\n",
       "      <td>7</td>\n",
       "      <td>0</td>\n",
       "    </tr>\n",
       "    <tr>\n",
       "      <th>1</th>\n",
       "      <td>ALASKA</td>\n",
       "      <td>721,523</td>\n",
       "      <td>1</td>\n",
       "      <td>0</td>\n",
       "    </tr>\n",
       "    <tr>\n",
       "      <th>2</th>\n",
       "      <td>ARIZONA</td>\n",
       "      <td>6,412,700</td>\n",
       "      <td>9</td>\n",
       "      <td>+1</td>\n",
       "    </tr>\n",
       "    <tr>\n",
       "      <th>3</th>\n",
       "      <td>ARKANSAS</td>\n",
       "      <td>2,926,229</td>\n",
       "      <td>4</td>\n",
       "      <td>0</td>\n",
       "    </tr>\n",
       "    <tr>\n",
       "      <th>4</th>\n",
       "      <td>CALIFORNIA</td>\n",
       "      <td>37,341,989</td>\n",
       "      <td>53</td>\n",
       "      <td>0</td>\n",
       "    </tr>\n",
       "    <tr>\n",
       "      <th>5</th>\n",
       "      <td>COLORADO</td>\n",
       "      <td>5,044,930</td>\n",
       "      <td>7</td>\n",
       "      <td>0</td>\n",
       "    </tr>\n",
       "    <tr>\n",
       "      <th>6</th>\n",
       "      <td>CONNECTICUT</td>\n",
       "      <td>3,581,628</td>\n",
       "      <td>5</td>\n",
       "      <td>0</td>\n",
       "    </tr>\n",
       "    <tr>\n",
       "      <th>7</th>\n",
       "      <td>DELAWARE</td>\n",
       "      <td>900,877</td>\n",
       "      <td>1</td>\n",
       "      <td>0</td>\n",
       "    </tr>\n",
       "    <tr>\n",
       "      <th>8</th>\n",
       "      <td>FLORIDA</td>\n",
       "      <td>18,900,773</td>\n",
       "      <td>27</td>\n",
       "      <td>+2</td>\n",
       "    </tr>\n",
       "    <tr>\n",
       "      <th>9</th>\n",
       "      <td>GEORGIA</td>\n",
       "      <td>9,727,566</td>\n",
       "      <td>14</td>\n",
       "      <td>+1</td>\n",
       "    </tr>\n",
       "    <tr>\n",
       "      <th>10</th>\n",
       "      <td>HAWAII</td>\n",
       "      <td>1,366,862</td>\n",
       "      <td>2</td>\n",
       "      <td>0</td>\n",
       "    </tr>\n",
       "    <tr>\n",
       "      <th>11</th>\n",
       "      <td>IDAHO</td>\n",
       "      <td>1,573,499</td>\n",
       "      <td>2</td>\n",
       "      <td>0</td>\n",
       "    </tr>\n",
       "    <tr>\n",
       "      <th>12</th>\n",
       "      <td>ILLINOIS</td>\n",
       "      <td>12,864,380</td>\n",
       "      <td>18</td>\n",
       "      <td>-1</td>\n",
       "    </tr>\n",
       "    <tr>\n",
       "      <th>13</th>\n",
       "      <td>INDIANA</td>\n",
       "      <td>6,501,582</td>\n",
       "      <td>9</td>\n",
       "      <td>0</td>\n",
       "    </tr>\n",
       "    <tr>\n",
       "      <th>14</th>\n",
       "      <td>IOWA</td>\n",
       "      <td>3,053,787</td>\n",
       "      <td>4</td>\n",
       "      <td>-1</td>\n",
       "    </tr>\n",
       "    <tr>\n",
       "      <th>15</th>\n",
       "      <td>KANSAS</td>\n",
       "      <td>2,863,813</td>\n",
       "      <td>4</td>\n",
       "      <td>0</td>\n",
       "    </tr>\n",
       "    <tr>\n",
       "      <th>16</th>\n",
       "      <td>KENTUCKY</td>\n",
       "      <td>4,350,606</td>\n",
       "      <td>6</td>\n",
       "      <td>0</td>\n",
       "    </tr>\n",
       "    <tr>\n",
       "      <th>17</th>\n",
       "      <td>LOUISIANA</td>\n",
       "      <td>4,553,962</td>\n",
       "      <td>6</td>\n",
       "      <td>-1</td>\n",
       "    </tr>\n",
       "    <tr>\n",
       "      <th>18</th>\n",
       "      <td>MAINE</td>\n",
       "      <td>1,333,074</td>\n",
       "      <td>2</td>\n",
       "      <td>0</td>\n",
       "    </tr>\n",
       "    <tr>\n",
       "      <th>19</th>\n",
       "      <td>MARYLAND</td>\n",
       "      <td>5,789,929</td>\n",
       "      <td>8</td>\n",
       "      <td>0</td>\n",
       "    </tr>\n",
       "    <tr>\n",
       "      <th>20</th>\n",
       "      <td>MASSACHUSETTS</td>\n",
       "      <td>6,559,644</td>\n",
       "      <td>9</td>\n",
       "      <td>-1</td>\n",
       "    </tr>\n",
       "    <tr>\n",
       "      <th>21</th>\n",
       "      <td>MICHIGAN</td>\n",
       "      <td>9,911,626</td>\n",
       "      <td>14</td>\n",
       "      <td>-1</td>\n",
       "    </tr>\n",
       "    <tr>\n",
       "      <th>22</th>\n",
       "      <td>MINNESOTA</td>\n",
       "      <td>5,314,879</td>\n",
       "      <td>8</td>\n",
       "      <td>0</td>\n",
       "    </tr>\n",
       "    <tr>\n",
       "      <th>23</th>\n",
       "      <td>MISSISSIPPI</td>\n",
       "      <td>2,978,240</td>\n",
       "      <td>4</td>\n",
       "      <td>0</td>\n",
       "    </tr>\n",
       "    <tr>\n",
       "      <th>24</th>\n",
       "      <td>MISSOURI</td>\n",
       "      <td>6,011,478</td>\n",
       "      <td>8</td>\n",
       "      <td>-1</td>\n",
       "    </tr>\n",
       "    <tr>\n",
       "      <th>25</th>\n",
       "      <td>MONTANA</td>\n",
       "      <td>994,416</td>\n",
       "      <td>1</td>\n",
       "      <td>0</td>\n",
       "    </tr>\n",
       "    <tr>\n",
       "      <th>26</th>\n",
       "      <td>NEBRASKA</td>\n",
       "      <td>1,831,825</td>\n",
       "      <td>3</td>\n",
       "      <td>0</td>\n",
       "    </tr>\n",
       "    <tr>\n",
       "      <th>27</th>\n",
       "      <td>NEVADA</td>\n",
       "      <td>2,709,432</td>\n",
       "      <td>4</td>\n",
       "      <td>+1</td>\n",
       "    </tr>\n",
       "    <tr>\n",
       "      <th>28</th>\n",
       "      <td>NEW HAMPSHIRE</td>\n",
       "      <td>1,321,445</td>\n",
       "      <td>2</td>\n",
       "      <td>0</td>\n",
       "    </tr>\n",
       "    <tr>\n",
       "      <th>29</th>\n",
       "      <td>NEW JERSEY</td>\n",
       "      <td>8,807,501</td>\n",
       "      <td>12</td>\n",
       "      <td>-1</td>\n",
       "    </tr>\n",
       "    <tr>\n",
       "      <th>30</th>\n",
       "      <td>NEW MEXICO</td>\n",
       "      <td>2,067,273</td>\n",
       "      <td>3</td>\n",
       "      <td>0</td>\n",
       "    </tr>\n",
       "    <tr>\n",
       "      <th>31</th>\n",
       "      <td>NEW YORK</td>\n",
       "      <td>19,421,055</td>\n",
       "      <td>27</td>\n",
       "      <td>-2</td>\n",
       "    </tr>\n",
       "    <tr>\n",
       "      <th>32</th>\n",
       "      <td>NORTH CAROLINA</td>\n",
       "      <td>9,565,781</td>\n",
       "      <td>13</td>\n",
       "      <td>0</td>\n",
       "    </tr>\n",
       "    <tr>\n",
       "      <th>33</th>\n",
       "      <td>NORTH DAKOTA</td>\n",
       "      <td>675,905</td>\n",
       "      <td>1</td>\n",
       "      <td>0</td>\n",
       "    </tr>\n",
       "    <tr>\n",
       "      <th>34</th>\n",
       "      <td>OHIO</td>\n",
       "      <td>11,568,495</td>\n",
       "      <td>16</td>\n",
       "      <td>-2</td>\n",
       "    </tr>\n",
       "    <tr>\n",
       "      <th>35</th>\n",
       "      <td>OKLAHOMA</td>\n",
       "      <td>3,764,882</td>\n",
       "      <td>5</td>\n",
       "      <td>0</td>\n",
       "    </tr>\n",
       "    <tr>\n",
       "      <th>36</th>\n",
       "      <td>OREGON</td>\n",
       "      <td>3,848,606</td>\n",
       "      <td>5</td>\n",
       "      <td>0</td>\n",
       "    </tr>\n",
       "    <tr>\n",
       "      <th>37</th>\n",
       "      <td>PENNSYLVANIA</td>\n",
       "      <td>12,734,905</td>\n",
       "      <td>18</td>\n",
       "      <td>-1</td>\n",
       "    </tr>\n",
       "    <tr>\n",
       "      <th>38</th>\n",
       "      <td>RHODE ISLAND</td>\n",
       "      <td>1,055,247</td>\n",
       "      <td>2</td>\n",
       "      <td>0</td>\n",
       "    </tr>\n",
       "    <tr>\n",
       "      <th>39</th>\n",
       "      <td>SOUTH CAROLINA</td>\n",
       "      <td>4,645,975</td>\n",
       "      <td>7</td>\n",
       "      <td>+1</td>\n",
       "    </tr>\n",
       "    <tr>\n",
       "      <th>40</th>\n",
       "      <td>SOUTH DAKOTA</td>\n",
       "      <td>819,761</td>\n",
       "      <td>1</td>\n",
       "      <td>0</td>\n",
       "    </tr>\n",
       "    <tr>\n",
       "      <th>41</th>\n",
       "      <td>TENNESSEE</td>\n",
       "      <td>6,375,431</td>\n",
       "      <td>9</td>\n",
       "      <td>0</td>\n",
       "    </tr>\n",
       "    <tr>\n",
       "      <th>42</th>\n",
       "      <td>TEXAS</td>\n",
       "      <td>25,268,418</td>\n",
       "      <td>36</td>\n",
       "      <td>+4</td>\n",
       "    </tr>\n",
       "    <tr>\n",
       "      <th>43</th>\n",
       "      <td>UTAH</td>\n",
       "      <td>2,770,765</td>\n",
       "      <td>4</td>\n",
       "      <td>+1</td>\n",
       "    </tr>\n",
       "    <tr>\n",
       "      <th>44</th>\n",
       "      <td>VERMONT</td>\n",
       "      <td>630,337</td>\n",
       "      <td>1</td>\n",
       "      <td>0</td>\n",
       "    </tr>\n",
       "    <tr>\n",
       "      <th>45</th>\n",
       "      <td>VIRGINIA</td>\n",
       "      <td>8,037,736</td>\n",
       "      <td>11</td>\n",
       "      <td>0</td>\n",
       "    </tr>\n",
       "    <tr>\n",
       "      <th>46</th>\n",
       "      <td>WASHINGTON</td>\n",
       "      <td>6,753,369</td>\n",
       "      <td>10</td>\n",
       "      <td>+1</td>\n",
       "    </tr>\n",
       "    <tr>\n",
       "      <th>47</th>\n",
       "      <td>WEST VIRGINIA</td>\n",
       "      <td>1,859,815</td>\n",
       "      <td>3</td>\n",
       "      <td>0</td>\n",
       "    </tr>\n",
       "    <tr>\n",
       "      <th>48</th>\n",
       "      <td>WISCONSIN</td>\n",
       "      <td>5,698,230</td>\n",
       "      <td>8</td>\n",
       "      <td>0</td>\n",
       "    </tr>\n",
       "    <tr>\n",
       "      <th>49</th>\n",
       "      <td>WYOMING</td>\n",
       "      <td>568,300</td>\n",
       "      <td>1</td>\n",
       "      <td>0</td>\n",
       "    </tr>\n",
       "  </tbody>\n",
       "</table>\n",
       "</div>"
      ],
      "text/plain": [
       "             STATE APPORTIONMENT POPULATION (APRIL 1, 2010)  \\\n",
       "0          ALABAMA                                4,802,982   \n",
       "1           ALASKA                                  721,523   \n",
       "2          ARIZONA                                6,412,700   \n",
       "3         ARKANSAS                                2,926,229   \n",
       "4       CALIFORNIA                               37,341,989   \n",
       "5         COLORADO                                5,044,930   \n",
       "6      CONNECTICUT                                3,581,628   \n",
       "7         DELAWARE                                  900,877   \n",
       "8          FLORIDA                               18,900,773   \n",
       "9          GEORGIA                                9,727,566   \n",
       "10          HAWAII                                1,366,862   \n",
       "11           IDAHO                                1,573,499   \n",
       "12        ILLINOIS                               12,864,380   \n",
       "13         INDIANA                                6,501,582   \n",
       "14            IOWA                                3,053,787   \n",
       "15          KANSAS                                2,863,813   \n",
       "16        KENTUCKY                                4,350,606   \n",
       "17       LOUISIANA                                4,553,962   \n",
       "18           MAINE                                1,333,074   \n",
       "19        MARYLAND                                5,789,929   \n",
       "20   MASSACHUSETTS                                6,559,644   \n",
       "21        MICHIGAN                                9,911,626   \n",
       "22       MINNESOTA                                5,314,879   \n",
       "23     MISSISSIPPI                                2,978,240   \n",
       "24        MISSOURI                                6,011,478   \n",
       "25         MONTANA                                  994,416   \n",
       "26        NEBRASKA                                1,831,825   \n",
       "27          NEVADA                                2,709,432   \n",
       "28   NEW HAMPSHIRE                                1,321,445   \n",
       "29      NEW JERSEY                                8,807,501   \n",
       "30      NEW MEXICO                                2,067,273   \n",
       "31        NEW YORK                               19,421,055   \n",
       "32  NORTH CAROLINA                                9,565,781   \n",
       "33    NORTH DAKOTA                                  675,905   \n",
       "34            OHIO                               11,568,495   \n",
       "35        OKLAHOMA                                3,764,882   \n",
       "36          OREGON                                3,848,606   \n",
       "37    PENNSYLVANIA                               12,734,905   \n",
       "38    RHODE ISLAND                                1,055,247   \n",
       "39  SOUTH CAROLINA                                4,645,975   \n",
       "40    SOUTH DAKOTA                                  819,761   \n",
       "41       TENNESSEE                                6,375,431   \n",
       "42           TEXAS                               25,268,418   \n",
       "43            UTAH                                2,770,765   \n",
       "44         VERMONT                                  630,337   \n",
       "45        VIRGINIA                                8,037,736   \n",
       "46      WASHINGTON                                6,753,369   \n",
       "47   WEST VIRGINIA                                1,859,815   \n",
       "48       WISCONSIN                                5,698,230   \n",
       "49         WYOMING                                  568,300   \n",
       "\n",
       "   NUMBER OF APPORTIONED REPRESENTATIVES BASED ON 2010 CENSUS  \\\n",
       "0                                                   7           \n",
       "1                                                   1           \n",
       "2                                                   9           \n",
       "3                                                   4           \n",
       "4                                                  53           \n",
       "5                                                   7           \n",
       "6                                                   5           \n",
       "7                                                   1           \n",
       "8                                                  27           \n",
       "9                                                  14           \n",
       "10                                                  2           \n",
       "11                                                  2           \n",
       "12                                                 18           \n",
       "13                                                  9           \n",
       "14                                                  4           \n",
       "15                                                  4           \n",
       "16                                                  6           \n",
       "17                                                  6           \n",
       "18                                                  2           \n",
       "19                                                  8           \n",
       "20                                                  9           \n",
       "21                                                 14           \n",
       "22                                                  8           \n",
       "23                                                  4           \n",
       "24                                                  8           \n",
       "25                                                  1           \n",
       "26                                                  3           \n",
       "27                                                  4           \n",
       "28                                                  2           \n",
       "29                                                 12           \n",
       "30                                                  3           \n",
       "31                                                 27           \n",
       "32                                                 13           \n",
       "33                                                  1           \n",
       "34                                                 16           \n",
       "35                                                  5           \n",
       "36                                                  5           \n",
       "37                                                 18           \n",
       "38                                                  2           \n",
       "39                                                  7           \n",
       "40                                                  1           \n",
       "41                                                  9           \n",
       "42                                                 36           \n",
       "43                                                  4           \n",
       "44                                                  1           \n",
       "45                                                 11           \n",
       "46                                                 10           \n",
       "47                                                  3           \n",
       "48                                                  8           \n",
       "49                                                  1           \n",
       "\n",
       "   CHANGE IN SEATS FROM CENSUS 2000 APPORTIONMENT  \n",
       "0                                               0  \n",
       "1                                               0  \n",
       "2                                              +1  \n",
       "3                                               0  \n",
       "4                                               0  \n",
       "5                                               0  \n",
       "6                                               0  \n",
       "7                                               0  \n",
       "8                                              +2  \n",
       "9                                              +1  \n",
       "10                                              0  \n",
       "11                                              0  \n",
       "12                                             -1  \n",
       "13                                              0  \n",
       "14                                             -1  \n",
       "15                                              0  \n",
       "16                                              0  \n",
       "17                                             -1  \n",
       "18                                              0  \n",
       "19                                              0  \n",
       "20                                             -1  \n",
       "21                                             -1  \n",
       "22                                              0  \n",
       "23                                              0  \n",
       "24                                             -1  \n",
       "25                                              0  \n",
       "26                                              0  \n",
       "27                                             +1  \n",
       "28                                              0  \n",
       "29                                             -1  \n",
       "30                                              0  \n",
       "31                                             -2  \n",
       "32                                              0  \n",
       "33                                              0  \n",
       "34                                             -2  \n",
       "35                                              0  \n",
       "36                                              0  \n",
       "37                                             -1  \n",
       "38                                              0  \n",
       "39                                             +1  \n",
       "40                                              0  \n",
       "41                                              0  \n",
       "42                                             +4  \n",
       "43                                             +1  \n",
       "44                                              0  \n",
       "45                                              0  \n",
       "46                                             +1  \n",
       "47                                              0  \n",
       "48                                              0  \n",
       "49                                              0  "
      ]
     },
     "execution_count": 89,
     "metadata": {},
     "output_type": "execute_result"
    }
   ],
   "source": [
    "ca2010"
   ]
  },
  {
   "cell_type": "code",
   "execution_count": 93,
   "metadata": {
    "collapsed": false
   },
   "outputs": [],
   "source": [
    "ca2010['APPORTIONMENT POPULATION (APRIL 1, 2010)'] = ca2010['APPORTIONMENT POPULATION (APRIL 1, 2010)'].map(\n",
    "        lambda x: int(x.replace(',','')) if x != '' else 0)"
   ]
  },
  {
   "cell_type": "code",
   "execution_count": 94,
   "metadata": {
    "collapsed": false
   },
   "outputs": [
    {
     "data": {
      "text/html": [
       "<div>\n",
       "<table border=\"1\" class=\"dataframe\">\n",
       "  <thead>\n",
       "    <tr style=\"text-align: right;\">\n",
       "      <th></th>\n",
       "      <th>STATE</th>\n",
       "      <th>APPORTIONMENT POPULATION (APRIL 1, 2010)</th>\n",
       "      <th>NUMBER OF APPORTIONED REPRESENTATIVES BASED ON 2010 CENSUS</th>\n",
       "      <th>CHANGE IN SEATS FROM CENSUS 2000 APPORTIONMENT</th>\n",
       "    </tr>\n",
       "  </thead>\n",
       "  <tbody>\n",
       "    <tr>\n",
       "      <th>0</th>\n",
       "      <td>ALABAMA</td>\n",
       "      <td>4802982</td>\n",
       "      <td>7</td>\n",
       "      <td>0</td>\n",
       "    </tr>\n",
       "    <tr>\n",
       "      <th>1</th>\n",
       "      <td>ALASKA</td>\n",
       "      <td>721523</td>\n",
       "      <td>1</td>\n",
       "      <td>0</td>\n",
       "    </tr>\n",
       "    <tr>\n",
       "      <th>2</th>\n",
       "      <td>ARIZONA</td>\n",
       "      <td>6412700</td>\n",
       "      <td>9</td>\n",
       "      <td>+1</td>\n",
       "    </tr>\n",
       "    <tr>\n",
       "      <th>3</th>\n",
       "      <td>ARKANSAS</td>\n",
       "      <td>2926229</td>\n",
       "      <td>4</td>\n",
       "      <td>0</td>\n",
       "    </tr>\n",
       "    <tr>\n",
       "      <th>4</th>\n",
       "      <td>CALIFORNIA</td>\n",
       "      <td>37341989</td>\n",
       "      <td>53</td>\n",
       "      <td>0</td>\n",
       "    </tr>\n",
       "    <tr>\n",
       "      <th>5</th>\n",
       "      <td>COLORADO</td>\n",
       "      <td>5044930</td>\n",
       "      <td>7</td>\n",
       "      <td>0</td>\n",
       "    </tr>\n",
       "    <tr>\n",
       "      <th>6</th>\n",
       "      <td>CONNECTICUT</td>\n",
       "      <td>3581628</td>\n",
       "      <td>5</td>\n",
       "      <td>0</td>\n",
       "    </tr>\n",
       "    <tr>\n",
       "      <th>7</th>\n",
       "      <td>DELAWARE</td>\n",
       "      <td>900877</td>\n",
       "      <td>1</td>\n",
       "      <td>0</td>\n",
       "    </tr>\n",
       "    <tr>\n",
       "      <th>8</th>\n",
       "      <td>FLORIDA</td>\n",
       "      <td>18900773</td>\n",
       "      <td>27</td>\n",
       "      <td>+2</td>\n",
       "    </tr>\n",
       "    <tr>\n",
       "      <th>9</th>\n",
       "      <td>GEORGIA</td>\n",
       "      <td>9727566</td>\n",
       "      <td>14</td>\n",
       "      <td>+1</td>\n",
       "    </tr>\n",
       "  </tbody>\n",
       "</table>\n",
       "</div>"
      ],
      "text/plain": [
       "         STATE  APPORTIONMENT POPULATION (APRIL 1, 2010)  \\\n",
       "0      ALABAMA                                   4802982   \n",
       "1       ALASKA                                    721523   \n",
       "2      ARIZONA                                   6412700   \n",
       "3     ARKANSAS                                   2926229   \n",
       "4   CALIFORNIA                                  37341989   \n",
       "5     COLORADO                                   5044930   \n",
       "6  CONNECTICUT                                   3581628   \n",
       "7     DELAWARE                                    900877   \n",
       "8      FLORIDA                                  18900773   \n",
       "9      GEORGIA                                   9727566   \n",
       "\n",
       "  NUMBER OF APPORTIONED REPRESENTATIVES BASED ON 2010 CENSUS  \\\n",
       "0                                                  7           \n",
       "1                                                  1           \n",
       "2                                                  9           \n",
       "3                                                  4           \n",
       "4                                                 53           \n",
       "5                                                  7           \n",
       "6                                                  5           \n",
       "7                                                  1           \n",
       "8                                                 27           \n",
       "9                                                 14           \n",
       "\n",
       "  CHANGE IN SEATS FROM CENSUS 2000 APPORTIONMENT  \n",
       "0                                              0  \n",
       "1                                              0  \n",
       "2                                             +1  \n",
       "3                                              0  \n",
       "4                                              0  \n",
       "5                                              0  \n",
       "6                                              0  \n",
       "7                                              0  \n",
       "8                                             +2  \n",
       "9                                             +1  "
      ]
     },
     "execution_count": 94,
     "metadata": {},
     "output_type": "execute_result"
    }
   ],
   "source": [
    "ca2010.head(10)"
   ]
  },
  {
   "cell_type": "code",
   "execution_count": 96,
   "metadata": {
    "collapsed": false
   },
   "outputs": [
    {
     "data": {
      "text/plain": [
       "str"
      ]
     },
     "execution_count": 96,
     "metadata": {},
     "output_type": "execute_result"
    }
   ],
   "source": [
    "type(ca2010['NUMBER OF APPORTIONED REPRESENTATIVES BASED ON 2010 CENSUS'][3])"
   ]
  },
  {
   "cell_type": "code",
   "execution_count": 97,
   "metadata": {
    "collapsed": true
   },
   "outputs": [],
   "source": [
    "ca2010['NUMBER OF APPORTIONED REPRESENTATIVES BASED ON 2010 CENSUS'] = ca2010['NUMBER OF APPORTIONED REPRESENTATIVES BASED ON 2010 CENSUS'].map(\n",
    "        lambda x: int(x.replace(',','')) if x != '' else 0)"
   ]
  },
  {
   "cell_type": "code",
   "execution_count": 98,
   "metadata": {
    "collapsed": false
   },
   "outputs": [
    {
     "data": {
      "text/plain": [
       "numpy.int64"
      ]
     },
     "execution_count": 98,
     "metadata": {},
     "output_type": "execute_result"
    }
   ],
   "source": [
    "type(ca2010['NUMBER OF APPORTIONED REPRESENTATIVES BASED ON 2010 CENSUS'][3])"
   ]
  },
  {
   "cell_type": "code",
   "execution_count": 99,
   "metadata": {
    "collapsed": false
   },
   "outputs": [
    {
     "data": {
      "text/html": [
       "<div>\n",
       "<table border=\"1\" class=\"dataframe\">\n",
       "  <thead>\n",
       "    <tr style=\"text-align: right;\">\n",
       "      <th></th>\n",
       "      <th>STATE</th>\n",
       "      <th>APPORTIONMENT POPULATION (APRIL 1, 2010)</th>\n",
       "      <th>NUMBER OF APPORTIONED REPRESENTATIVES BASED ON 2010 CENSUS</th>\n",
       "      <th>CHANGE IN SEATS FROM CENSUS 2000 APPORTIONMENT</th>\n",
       "    </tr>\n",
       "  </thead>\n",
       "  <tbody>\n",
       "    <tr>\n",
       "      <th>0</th>\n",
       "      <td>ALABAMA</td>\n",
       "      <td>4802982</td>\n",
       "      <td>7</td>\n",
       "      <td>0</td>\n",
       "    </tr>\n",
       "    <tr>\n",
       "      <th>1</th>\n",
       "      <td>ALASKA</td>\n",
       "      <td>721523</td>\n",
       "      <td>1</td>\n",
       "      <td>0</td>\n",
       "    </tr>\n",
       "    <tr>\n",
       "      <th>2</th>\n",
       "      <td>ARIZONA</td>\n",
       "      <td>6412700</td>\n",
       "      <td>9</td>\n",
       "      <td>+1</td>\n",
       "    </tr>\n",
       "    <tr>\n",
       "      <th>3</th>\n",
       "      <td>ARKANSAS</td>\n",
       "      <td>2926229</td>\n",
       "      <td>4</td>\n",
       "      <td>0</td>\n",
       "    </tr>\n",
       "    <tr>\n",
       "      <th>4</th>\n",
       "      <td>CALIFORNIA</td>\n",
       "      <td>37341989</td>\n",
       "      <td>53</td>\n",
       "      <td>0</td>\n",
       "    </tr>\n",
       "    <tr>\n",
       "      <th>5</th>\n",
       "      <td>COLORADO</td>\n",
       "      <td>5044930</td>\n",
       "      <td>7</td>\n",
       "      <td>0</td>\n",
       "    </tr>\n",
       "    <tr>\n",
       "      <th>6</th>\n",
       "      <td>CONNECTICUT</td>\n",
       "      <td>3581628</td>\n",
       "      <td>5</td>\n",
       "      <td>0</td>\n",
       "    </tr>\n",
       "    <tr>\n",
       "      <th>7</th>\n",
       "      <td>DELAWARE</td>\n",
       "      <td>900877</td>\n",
       "      <td>1</td>\n",
       "      <td>0</td>\n",
       "    </tr>\n",
       "    <tr>\n",
       "      <th>8</th>\n",
       "      <td>FLORIDA</td>\n",
       "      <td>18900773</td>\n",
       "      <td>27</td>\n",
       "      <td>+2</td>\n",
       "    </tr>\n",
       "    <tr>\n",
       "      <th>9</th>\n",
       "      <td>GEORGIA</td>\n",
       "      <td>9727566</td>\n",
       "      <td>14</td>\n",
       "      <td>+1</td>\n",
       "    </tr>\n",
       "  </tbody>\n",
       "</table>\n",
       "</div>"
      ],
      "text/plain": [
       "         STATE  APPORTIONMENT POPULATION (APRIL 1, 2010)  \\\n",
       "0      ALABAMA                                   4802982   \n",
       "1       ALASKA                                    721523   \n",
       "2      ARIZONA                                   6412700   \n",
       "3     ARKANSAS                                   2926229   \n",
       "4   CALIFORNIA                                  37341989   \n",
       "5     COLORADO                                   5044930   \n",
       "6  CONNECTICUT                                   3581628   \n",
       "7     DELAWARE                                    900877   \n",
       "8      FLORIDA                                  18900773   \n",
       "9      GEORGIA                                   9727566   \n",
       "\n",
       "   NUMBER OF APPORTIONED REPRESENTATIVES BASED ON 2010 CENSUS  \\\n",
       "0                                                  7            \n",
       "1                                                  1            \n",
       "2                                                  9            \n",
       "3                                                  4            \n",
       "4                                                 53            \n",
       "5                                                  7            \n",
       "6                                                  5            \n",
       "7                                                  1            \n",
       "8                                                 27            \n",
       "9                                                 14            \n",
       "\n",
       "  CHANGE IN SEATS FROM CENSUS 2000 APPORTIONMENT  \n",
       "0                                              0  \n",
       "1                                              0  \n",
       "2                                             +1  \n",
       "3                                              0  \n",
       "4                                              0  \n",
       "5                                              0  \n",
       "6                                              0  \n",
       "7                                              0  \n",
       "8                                             +2  \n",
       "9                                             +1  "
      ]
     },
     "execution_count": 99,
     "metadata": {},
     "output_type": "execute_result"
    }
   ],
   "source": [
    "ca2010.head(10)"
   ]
  },
  {
   "cell_type": "code",
   "execution_count": 100,
   "metadata": {
    "collapsed": true
   },
   "outputs": [],
   "source": [
    "ca2010['TOTAL ELECTORAL VOTES'] = ca2010['NUMBER OF APPORTIONED REPRESENTATIVES BASED ON 2010 CENSUS'] + 2"
   ]
  },
  {
   "cell_type": "code",
   "execution_count": 102,
   "metadata": {
    "collapsed": false
   },
   "outputs": [
    {
     "data": {
      "text/html": [
       "<div>\n",
       "<table border=\"1\" class=\"dataframe\">\n",
       "  <thead>\n",
       "    <tr style=\"text-align: right;\">\n",
       "      <th></th>\n",
       "      <th>STATE</th>\n",
       "      <th>APPORTIONMENT POPULATION (APRIL 1, 2010)</th>\n",
       "      <th>NUMBER OF APPORTIONED REPRESENTATIVES BASED ON 2010 CENSUS</th>\n",
       "      <th>CHANGE IN SEATS FROM CENSUS 2000 APPORTIONMENT</th>\n",
       "      <th>TOTAL ELECTORAL VOTES</th>\n",
       "    </tr>\n",
       "  </thead>\n",
       "  <tbody>\n",
       "    <tr>\n",
       "      <th>0</th>\n",
       "      <td>ALABAMA</td>\n",
       "      <td>4802982</td>\n",
       "      <td>7</td>\n",
       "      <td>0</td>\n",
       "      <td>9</td>\n",
       "    </tr>\n",
       "    <tr>\n",
       "      <th>1</th>\n",
       "      <td>ALASKA</td>\n",
       "      <td>721523</td>\n",
       "      <td>1</td>\n",
       "      <td>0</td>\n",
       "      <td>3</td>\n",
       "    </tr>\n",
       "    <tr>\n",
       "      <th>2</th>\n",
       "      <td>ARIZONA</td>\n",
       "      <td>6412700</td>\n",
       "      <td>9</td>\n",
       "      <td>+1</td>\n",
       "      <td>11</td>\n",
       "    </tr>\n",
       "    <tr>\n",
       "      <th>3</th>\n",
       "      <td>ARKANSAS</td>\n",
       "      <td>2926229</td>\n",
       "      <td>4</td>\n",
       "      <td>0</td>\n",
       "      <td>6</td>\n",
       "    </tr>\n",
       "    <tr>\n",
       "      <th>4</th>\n",
       "      <td>CALIFORNIA</td>\n",
       "      <td>37341989</td>\n",
       "      <td>53</td>\n",
       "      <td>0</td>\n",
       "      <td>55</td>\n",
       "    </tr>\n",
       "    <tr>\n",
       "      <th>5</th>\n",
       "      <td>COLORADO</td>\n",
       "      <td>5044930</td>\n",
       "      <td>7</td>\n",
       "      <td>0</td>\n",
       "      <td>9</td>\n",
       "    </tr>\n",
       "    <tr>\n",
       "      <th>6</th>\n",
       "      <td>CONNECTICUT</td>\n",
       "      <td>3581628</td>\n",
       "      <td>5</td>\n",
       "      <td>0</td>\n",
       "      <td>7</td>\n",
       "    </tr>\n",
       "    <tr>\n",
       "      <th>7</th>\n",
       "      <td>DELAWARE</td>\n",
       "      <td>900877</td>\n",
       "      <td>1</td>\n",
       "      <td>0</td>\n",
       "      <td>3</td>\n",
       "    </tr>\n",
       "    <tr>\n",
       "      <th>8</th>\n",
       "      <td>FLORIDA</td>\n",
       "      <td>18900773</td>\n",
       "      <td>27</td>\n",
       "      <td>+2</td>\n",
       "      <td>29</td>\n",
       "    </tr>\n",
       "    <tr>\n",
       "      <th>9</th>\n",
       "      <td>GEORGIA</td>\n",
       "      <td>9727566</td>\n",
       "      <td>14</td>\n",
       "      <td>+1</td>\n",
       "      <td>16</td>\n",
       "    </tr>\n",
       "  </tbody>\n",
       "</table>\n",
       "</div>"
      ],
      "text/plain": [
       "         STATE  APPORTIONMENT POPULATION (APRIL 1, 2010)  \\\n",
       "0      ALABAMA                                   4802982   \n",
       "1       ALASKA                                    721523   \n",
       "2      ARIZONA                                   6412700   \n",
       "3     ARKANSAS                                   2926229   \n",
       "4   CALIFORNIA                                  37341989   \n",
       "5     COLORADO                                   5044930   \n",
       "6  CONNECTICUT                                   3581628   \n",
       "7     DELAWARE                                    900877   \n",
       "8      FLORIDA                                  18900773   \n",
       "9      GEORGIA                                   9727566   \n",
       "\n",
       "   NUMBER OF APPORTIONED REPRESENTATIVES BASED ON 2010 CENSUS  \\\n",
       "0                                                  7            \n",
       "1                                                  1            \n",
       "2                                                  9            \n",
       "3                                                  4            \n",
       "4                                                 53            \n",
       "5                                                  7            \n",
       "6                                                  5            \n",
       "7                                                  1            \n",
       "8                                                 27            \n",
       "9                                                 14            \n",
       "\n",
       "  CHANGE IN SEATS FROM CENSUS 2000 APPORTIONMENT  TOTAL ELECTORAL VOTES  \n",
       "0                                              0                      9  \n",
       "1                                              0                      3  \n",
       "2                                             +1                     11  \n",
       "3                                              0                      6  \n",
       "4                                              0                     55  \n",
       "5                                              0                      9  \n",
       "6                                              0                      7  \n",
       "7                                              0                      3  \n",
       "8                                             +2                     29  \n",
       "9                                             +1                     16  "
      ]
     },
     "execution_count": 102,
     "metadata": {},
     "output_type": "execute_result"
    }
   ],
   "source": [
    "ca2010.head(10)"
   ]
  },
  {
   "cell_type": "code",
   "execution_count": 103,
   "metadata": {
    "collapsed": true
   },
   "outputs": [],
   "source": [
    "ca2010['NUMBER OF CITIZENS PER ELECTORAL VOTE'] =  ca2010['APPORTIONMENT POPULATION (APRIL 1, 2010)']/ca2010['TOTAL ELECTORAL VOTES']"
   ]
  },
  {
   "cell_type": "code",
   "execution_count": 104,
   "metadata": {
    "collapsed": false
   },
   "outputs": [
    {
     "data": {
      "text/html": [
       "<div>\n",
       "<table border=\"1\" class=\"dataframe\">\n",
       "  <thead>\n",
       "    <tr style=\"text-align: right;\">\n",
       "      <th></th>\n",
       "      <th>STATE</th>\n",
       "      <th>APPORTIONMENT POPULATION (APRIL 1, 2010)</th>\n",
       "      <th>NUMBER OF APPORTIONED REPRESENTATIVES BASED ON 2010 CENSUS</th>\n",
       "      <th>CHANGE IN SEATS FROM CENSUS 2000 APPORTIONMENT</th>\n",
       "      <th>TOTAL ELECTORAL VOTES</th>\n",
       "      <th>NUMBER OF CITIZENS PER ELECTORAL VOTE</th>\n",
       "    </tr>\n",
       "  </thead>\n",
       "  <tbody>\n",
       "    <tr>\n",
       "      <th>0</th>\n",
       "      <td>ALABAMA</td>\n",
       "      <td>4802982</td>\n",
       "      <td>7</td>\n",
       "      <td>0</td>\n",
       "      <td>9</td>\n",
       "      <td>533664.666667</td>\n",
       "    </tr>\n",
       "    <tr>\n",
       "      <th>1</th>\n",
       "      <td>ALASKA</td>\n",
       "      <td>721523</td>\n",
       "      <td>1</td>\n",
       "      <td>0</td>\n",
       "      <td>3</td>\n",
       "      <td>240507.666667</td>\n",
       "    </tr>\n",
       "    <tr>\n",
       "      <th>2</th>\n",
       "      <td>ARIZONA</td>\n",
       "      <td>6412700</td>\n",
       "      <td>9</td>\n",
       "      <td>+1</td>\n",
       "      <td>11</td>\n",
       "      <td>582972.727273</td>\n",
       "    </tr>\n",
       "    <tr>\n",
       "      <th>3</th>\n",
       "      <td>ARKANSAS</td>\n",
       "      <td>2926229</td>\n",
       "      <td>4</td>\n",
       "      <td>0</td>\n",
       "      <td>6</td>\n",
       "      <td>487704.833333</td>\n",
       "    </tr>\n",
       "    <tr>\n",
       "      <th>4</th>\n",
       "      <td>CALIFORNIA</td>\n",
       "      <td>37341989</td>\n",
       "      <td>53</td>\n",
       "      <td>0</td>\n",
       "      <td>55</td>\n",
       "      <td>678945.254545</td>\n",
       "    </tr>\n",
       "    <tr>\n",
       "      <th>5</th>\n",
       "      <td>COLORADO</td>\n",
       "      <td>5044930</td>\n",
       "      <td>7</td>\n",
       "      <td>0</td>\n",
       "      <td>9</td>\n",
       "      <td>560547.777778</td>\n",
       "    </tr>\n",
       "    <tr>\n",
       "      <th>6</th>\n",
       "      <td>CONNECTICUT</td>\n",
       "      <td>3581628</td>\n",
       "      <td>5</td>\n",
       "      <td>0</td>\n",
       "      <td>7</td>\n",
       "      <td>511661.142857</td>\n",
       "    </tr>\n",
       "    <tr>\n",
       "      <th>7</th>\n",
       "      <td>DELAWARE</td>\n",
       "      <td>900877</td>\n",
       "      <td>1</td>\n",
       "      <td>0</td>\n",
       "      <td>3</td>\n",
       "      <td>300292.333333</td>\n",
       "    </tr>\n",
       "    <tr>\n",
       "      <th>8</th>\n",
       "      <td>FLORIDA</td>\n",
       "      <td>18900773</td>\n",
       "      <td>27</td>\n",
       "      <td>+2</td>\n",
       "      <td>29</td>\n",
       "      <td>651750.793103</td>\n",
       "    </tr>\n",
       "    <tr>\n",
       "      <th>9</th>\n",
       "      <td>GEORGIA</td>\n",
       "      <td>9727566</td>\n",
       "      <td>14</td>\n",
       "      <td>+1</td>\n",
       "      <td>16</td>\n",
       "      <td>607972.875000</td>\n",
       "    </tr>\n",
       "  </tbody>\n",
       "</table>\n",
       "</div>"
      ],
      "text/plain": [
       "         STATE  APPORTIONMENT POPULATION (APRIL 1, 2010)  \\\n",
       "0      ALABAMA                                   4802982   \n",
       "1       ALASKA                                    721523   \n",
       "2      ARIZONA                                   6412700   \n",
       "3     ARKANSAS                                   2926229   \n",
       "4   CALIFORNIA                                  37341989   \n",
       "5     COLORADO                                   5044930   \n",
       "6  CONNECTICUT                                   3581628   \n",
       "7     DELAWARE                                    900877   \n",
       "8      FLORIDA                                  18900773   \n",
       "9      GEORGIA                                   9727566   \n",
       "\n",
       "   NUMBER OF APPORTIONED REPRESENTATIVES BASED ON 2010 CENSUS  \\\n",
       "0                                                  7            \n",
       "1                                                  1            \n",
       "2                                                  9            \n",
       "3                                                  4            \n",
       "4                                                 53            \n",
       "5                                                  7            \n",
       "6                                                  5            \n",
       "7                                                  1            \n",
       "8                                                 27            \n",
       "9                                                 14            \n",
       "\n",
       "  CHANGE IN SEATS FROM CENSUS 2000 APPORTIONMENT  TOTAL ELECTORAL VOTES  \\\n",
       "0                                              0                      9   \n",
       "1                                              0                      3   \n",
       "2                                             +1                     11   \n",
       "3                                              0                      6   \n",
       "4                                              0                     55   \n",
       "5                                              0                      9   \n",
       "6                                              0                      7   \n",
       "7                                              0                      3   \n",
       "8                                             +2                     29   \n",
       "9                                             +1                     16   \n",
       "\n",
       "   NUMBER OF CITIZENS PER ELECTORAL VOTE  \n",
       "0                          533664.666667  \n",
       "1                          240507.666667  \n",
       "2                          582972.727273  \n",
       "3                          487704.833333  \n",
       "4                          678945.254545  \n",
       "5                          560547.777778  \n",
       "6                          511661.142857  \n",
       "7                          300292.333333  \n",
       "8                          651750.793103  \n",
       "9                          607972.875000  "
      ]
     },
     "execution_count": 104,
     "metadata": {},
     "output_type": "execute_result"
    }
   ],
   "source": [
    "ca2010.head(10)"
   ]
  },
  {
   "cell_type": "code",
   "execution_count": 105,
   "metadata": {
    "collapsed": true
   },
   "outputs": [],
   "source": [
    "ca2010['NUMBER OF CITIZENS PER ELECTORAL VOTE'] = ca2010['NUMBER OF CITIZENS PER ELECTORAL VOTE'].map(lambda x: int(x))"
   ]
  },
  {
   "cell_type": "code",
   "execution_count": 106,
   "metadata": {
    "collapsed": false
   },
   "outputs": [
    {
     "data": {
      "text/html": [
       "<div>\n",
       "<table border=\"1\" class=\"dataframe\">\n",
       "  <thead>\n",
       "    <tr style=\"text-align: right;\">\n",
       "      <th></th>\n",
       "      <th>STATE</th>\n",
       "      <th>APPORTIONMENT POPULATION (APRIL 1, 2010)</th>\n",
       "      <th>NUMBER OF APPORTIONED REPRESENTATIVES BASED ON 2010 CENSUS</th>\n",
       "      <th>CHANGE IN SEATS FROM CENSUS 2000 APPORTIONMENT</th>\n",
       "      <th>TOTAL ELECTORAL VOTES</th>\n",
       "      <th>NUMBER OF CITIZENS PER ELECTORAL VOTE</th>\n",
       "    </tr>\n",
       "  </thead>\n",
       "  <tbody>\n",
       "    <tr>\n",
       "      <th>0</th>\n",
       "      <td>ALABAMA</td>\n",
       "      <td>4802982</td>\n",
       "      <td>7</td>\n",
       "      <td>0</td>\n",
       "      <td>9</td>\n",
       "      <td>533664</td>\n",
       "    </tr>\n",
       "    <tr>\n",
       "      <th>1</th>\n",
       "      <td>ALASKA</td>\n",
       "      <td>721523</td>\n",
       "      <td>1</td>\n",
       "      <td>0</td>\n",
       "      <td>3</td>\n",
       "      <td>240507</td>\n",
       "    </tr>\n",
       "    <tr>\n",
       "      <th>2</th>\n",
       "      <td>ARIZONA</td>\n",
       "      <td>6412700</td>\n",
       "      <td>9</td>\n",
       "      <td>+1</td>\n",
       "      <td>11</td>\n",
       "      <td>582972</td>\n",
       "    </tr>\n",
       "    <tr>\n",
       "      <th>3</th>\n",
       "      <td>ARKANSAS</td>\n",
       "      <td>2926229</td>\n",
       "      <td>4</td>\n",
       "      <td>0</td>\n",
       "      <td>6</td>\n",
       "      <td>487704</td>\n",
       "    </tr>\n",
       "    <tr>\n",
       "      <th>4</th>\n",
       "      <td>CALIFORNIA</td>\n",
       "      <td>37341989</td>\n",
       "      <td>53</td>\n",
       "      <td>0</td>\n",
       "      <td>55</td>\n",
       "      <td>678945</td>\n",
       "    </tr>\n",
       "    <tr>\n",
       "      <th>5</th>\n",
       "      <td>COLORADO</td>\n",
       "      <td>5044930</td>\n",
       "      <td>7</td>\n",
       "      <td>0</td>\n",
       "      <td>9</td>\n",
       "      <td>560547</td>\n",
       "    </tr>\n",
       "    <tr>\n",
       "      <th>6</th>\n",
       "      <td>CONNECTICUT</td>\n",
       "      <td>3581628</td>\n",
       "      <td>5</td>\n",
       "      <td>0</td>\n",
       "      <td>7</td>\n",
       "      <td>511661</td>\n",
       "    </tr>\n",
       "    <tr>\n",
       "      <th>7</th>\n",
       "      <td>DELAWARE</td>\n",
       "      <td>900877</td>\n",
       "      <td>1</td>\n",
       "      <td>0</td>\n",
       "      <td>3</td>\n",
       "      <td>300292</td>\n",
       "    </tr>\n",
       "    <tr>\n",
       "      <th>8</th>\n",
       "      <td>FLORIDA</td>\n",
       "      <td>18900773</td>\n",
       "      <td>27</td>\n",
       "      <td>+2</td>\n",
       "      <td>29</td>\n",
       "      <td>651750</td>\n",
       "    </tr>\n",
       "    <tr>\n",
       "      <th>9</th>\n",
       "      <td>GEORGIA</td>\n",
       "      <td>9727566</td>\n",
       "      <td>14</td>\n",
       "      <td>+1</td>\n",
       "      <td>16</td>\n",
       "      <td>607972</td>\n",
       "    </tr>\n",
       "  </tbody>\n",
       "</table>\n",
       "</div>"
      ],
      "text/plain": [
       "         STATE  APPORTIONMENT POPULATION (APRIL 1, 2010)  \\\n",
       "0      ALABAMA                                   4802982   \n",
       "1       ALASKA                                    721523   \n",
       "2      ARIZONA                                   6412700   \n",
       "3     ARKANSAS                                   2926229   \n",
       "4   CALIFORNIA                                  37341989   \n",
       "5     COLORADO                                   5044930   \n",
       "6  CONNECTICUT                                   3581628   \n",
       "7     DELAWARE                                    900877   \n",
       "8      FLORIDA                                  18900773   \n",
       "9      GEORGIA                                   9727566   \n",
       "\n",
       "   NUMBER OF APPORTIONED REPRESENTATIVES BASED ON 2010 CENSUS  \\\n",
       "0                                                  7            \n",
       "1                                                  1            \n",
       "2                                                  9            \n",
       "3                                                  4            \n",
       "4                                                 53            \n",
       "5                                                  7            \n",
       "6                                                  5            \n",
       "7                                                  1            \n",
       "8                                                 27            \n",
       "9                                                 14            \n",
       "\n",
       "  CHANGE IN SEATS FROM CENSUS 2000 APPORTIONMENT  TOTAL ELECTORAL VOTES  \\\n",
       "0                                              0                      9   \n",
       "1                                              0                      3   \n",
       "2                                             +1                     11   \n",
       "3                                              0                      6   \n",
       "4                                              0                     55   \n",
       "5                                              0                      9   \n",
       "6                                              0                      7   \n",
       "7                                              0                      3   \n",
       "8                                             +2                     29   \n",
       "9                                             +1                     16   \n",
       "\n",
       "   NUMBER OF CITIZENS PER ELECTORAL VOTE  \n",
       "0                                 533664  \n",
       "1                                 240507  \n",
       "2                                 582972  \n",
       "3                                 487704  \n",
       "4                                 678945  \n",
       "5                                 560547  \n",
       "6                                 511661  \n",
       "7                                 300292  \n",
       "8                                 651750  \n",
       "9                                 607972  "
      ]
     },
     "execution_count": 106,
     "metadata": {},
     "output_type": "execute_result"
    }
   ],
   "source": [
    "ca2010.head(10)"
   ]
  },
  {
   "cell_type": "code",
   "execution_count": 107,
   "metadata": {
    "collapsed": true
   },
   "outputs": [],
   "source": [
    "ca2010.to_csv('2010_apportionment_cleaned.tsv', sep = '\\t', index=False)"
   ]
  },
  {
   "cell_type": "code",
   "execution_count": null,
   "metadata": {
    "collapsed": true
   },
   "outputs": [],
   "source": []
  }
 ],
 "metadata": {
  "anaconda-cloud": {},
  "kernelspec": {
   "display_name": "Python [Root]",
   "language": "python",
   "name": "Python [Root]"
  },
  "language_info": {
   "codemirror_mode": {
    "name": "ipython",
    "version": 3
   },
   "file_extension": ".py",
   "mimetype": "text/x-python",
   "name": "python",
   "nbconvert_exporter": "python",
   "pygments_lexer": "ipython3",
   "version": "3.5.2"
  }
 },
 "nbformat": 4,
 "nbformat_minor": 2
}
